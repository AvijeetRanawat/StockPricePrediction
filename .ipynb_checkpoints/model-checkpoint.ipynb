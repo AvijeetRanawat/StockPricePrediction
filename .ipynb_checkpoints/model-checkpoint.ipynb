{
 "cells": [
  {
   "cell_type": "markdown",
   "metadata": {},
   "source": [
    "# Stock Market Prediction And Forecasting Using Stacked LSTM"
   ]
  },
  {
   "cell_type": "markdown",
   "metadata": {},
   "source": [
    "## Get Data"
   ]
  },
  {
   "cell_type": "markdown",
   "metadata": {},
   "source": [
    "### one way"
   ]
  },
  {
   "cell_type": "code",
   "execution_count": 71,
   "metadata": {},
   "outputs": [],
   "source": [
    "\n",
    "import pandas as pd"
   ]
  },
  {
   "cell_type": "code",
   "execution_count": 57,
   "metadata": {},
   "outputs": [],
   "source": [
    "key=''\n",
    "stock = 'TCS.BSE'"
   ]
  },
  {
   "cell_type": "code",
   "execution_count": 58,
   "metadata": {},
   "outputs": [],
   "source": [
    "url = 'https://www.alphavantage.co/query?function=TIME_SERIES_DAILY_ADJUSTED&symbol='+ stock +'&outputsize=compact&apikey='+key#+'&datatype=csv'"
   ]
  },
  {
   "cell_type": "code",
   "execution_count": 59,
   "metadata": {
    "scrolled": false
   },
   "outputs": [],
   "source": [
    "import urllib.request\n",
    "\n",
    "weburl = urllib.request.urlopen(url)\n",
    "data = weburl.read()\n"
   ]
  },
  {
   "cell_type": "code",
   "execution_count": 60,
   "metadata": {},
   "outputs": [],
   "source": [
    "from ast import literal_eval\n",
    "\n",
    "data = literal_eval(data.decode('utf-8'))"
   ]
  },
  {
   "cell_type": "code",
   "execution_count": 61,
   "metadata": {},
   "outputs": [],
   "source": [
    "# import json\n",
    "\n",
    "# result = json.dumps(data, indent=4, sort_keys=True)"
   ]
  },
  {
   "cell_type": "code",
   "execution_count": 69,
   "metadata": {},
   "outputs": [
    {
     "data": {
      "text/html": [
       "<div>\n",
       "<style scoped>\n",
       "    .dataframe tbody tr th:only-of-type {\n",
       "        vertical-align: middle;\n",
       "    }\n",
       "\n",
       "    .dataframe tbody tr th {\n",
       "        vertical-align: top;\n",
       "    }\n",
       "\n",
       "    .dataframe thead th {\n",
       "        text-align: right;\n",
       "    }\n",
       "</style>\n",
       "<table border=\"1\" class=\"dataframe\">\n",
       "  <thead>\n",
       "    <tr style=\"text-align: right;\">\n",
       "      <th></th>\n",
       "      <th>1. open</th>\n",
       "      <th>2. high</th>\n",
       "      <th>3. low</th>\n",
       "      <th>4. close</th>\n",
       "      <th>5. adjusted close</th>\n",
       "      <th>6. volume</th>\n",
       "      <th>7. dividend amount</th>\n",
       "      <th>8. split coefficient</th>\n",
       "    </tr>\n",
       "  </thead>\n",
       "  <tbody>\n",
       "    <tr>\n",
       "      <th>2021-04-30</th>\n",
       "      <td>3111.0</td>\n",
       "      <td>3132.7</td>\n",
       "      <td>3021.0</td>\n",
       "      <td>3038.3999</td>\n",
       "      <td>3038.3999</td>\n",
       "      <td>69616</td>\n",
       "      <td>0.0000</td>\n",
       "      <td>1.0</td>\n",
       "    </tr>\n",
       "    <tr>\n",
       "      <th>2021-04-29</th>\n",
       "      <td>3142.0</td>\n",
       "      <td>3156.3</td>\n",
       "      <td>3105.3999</td>\n",
       "      <td>3113.2</td>\n",
       "      <td>3113.2</td>\n",
       "      <td>62825</td>\n",
       "      <td>0.0000</td>\n",
       "      <td>1.0</td>\n",
       "    </tr>\n",
       "    <tr>\n",
       "      <th>2021-04-28</th>\n",
       "      <td>3143.0</td>\n",
       "      <td>3150.5</td>\n",
       "      <td>3112.0</td>\n",
       "      <td>3123.8</td>\n",
       "      <td>3123.8</td>\n",
       "      <td>39238</td>\n",
       "      <td>0.0000</td>\n",
       "      <td>1.0</td>\n",
       "    </tr>\n",
       "    <tr>\n",
       "      <th>2021-04-27</th>\n",
       "      <td>3103.0</td>\n",
       "      <td>3135.1001</td>\n",
       "      <td>3103.0</td>\n",
       "      <td>3131.6001</td>\n",
       "      <td>3131.6001</td>\n",
       "      <td>43362</td>\n",
       "      <td>0.0000</td>\n",
       "      <td>1.0</td>\n",
       "    </tr>\n",
       "    <tr>\n",
       "      <th>2021-04-26</th>\n",
       "      <td>3109.8</td>\n",
       "      <td>3151.95</td>\n",
       "      <td>3088.1001</td>\n",
       "      <td>3101.1001</td>\n",
       "      <td>3101.1001</td>\n",
       "      <td>96633</td>\n",
       "      <td>0.0000</td>\n",
       "      <td>1.0</td>\n",
       "    </tr>\n",
       "  </tbody>\n",
       "</table>\n",
       "</div>"
      ],
      "text/plain": [
       "           1. open    2. high     3. low   4. close 5. adjusted close  \\\n",
       "2021-04-30  3111.0     3132.7     3021.0  3038.3999         3038.3999   \n",
       "2021-04-29  3142.0     3156.3  3105.3999     3113.2            3113.2   \n",
       "2021-04-28  3143.0     3150.5     3112.0     3123.8            3123.8   \n",
       "2021-04-27  3103.0  3135.1001     3103.0  3131.6001         3131.6001   \n",
       "2021-04-26  3109.8    3151.95  3088.1001  3101.1001         3101.1001   \n",
       "\n",
       "           6. volume 7. dividend amount 8. split coefficient  \n",
       "2021-04-30     69616             0.0000                  1.0  \n",
       "2021-04-29     62825             0.0000                  1.0  \n",
       "2021-04-28     39238             0.0000                  1.0  \n",
       "2021-04-27     43362             0.0000                  1.0  \n",
       "2021-04-26     96633             0.0000                  1.0  "
      ]
     },
     "execution_count": 69,
     "metadata": {},
     "output_type": "execute_result"
    }
   ],
   "source": [
    "df = pd.DataFrame(data.get('Time Series (Daily)'))\n",
    "df = df.T\n",
    "df.head()"
   ]
  },
  {
   "cell_type": "code",
   "execution_count": 67,
   "metadata": {},
   "outputs": [
    {
     "data": {
      "text/plain": [
       "Index(['1. open', '2. high', '3. low', '4. close', '5. adjusted close',\n",
       "       '6. volume', '7. dividend amount', '8. split coefficient'],\n",
       "      dtype='object')"
      ]
     },
     "execution_count": 67,
     "metadata": {},
     "output_type": "execute_result"
    }
   ],
   "source": [
    "df.columns"
   ]
  },
  {
   "cell_type": "code",
   "execution_count": 70,
   "metadata": {},
   "outputs": [
    {
     "data": {
      "text/html": [
       "<div>\n",
       "<style scoped>\n",
       "    .dataframe tbody tr th:only-of-type {\n",
       "        vertical-align: middle;\n",
       "    }\n",
       "\n",
       "    .dataframe tbody tr th {\n",
       "        vertical-align: top;\n",
       "    }\n",
       "\n",
       "    .dataframe thead th {\n",
       "        text-align: right;\n",
       "    }\n",
       "</style>\n",
       "<table border=\"1\" class=\"dataframe\">\n",
       "  <thead>\n",
       "    <tr style=\"text-align: right;\">\n",
       "      <th></th>\n",
       "      <th>open</th>\n",
       "      <th>high</th>\n",
       "      <th>low</th>\n",
       "      <th>close</th>\n",
       "      <th>volume</th>\n",
       "    </tr>\n",
       "  </thead>\n",
       "  <tbody>\n",
       "    <tr>\n",
       "      <th>2021-04-30</th>\n",
       "      <td>3111.0</td>\n",
       "      <td>3132.7</td>\n",
       "      <td>3021.0</td>\n",
       "      <td>3038.3999</td>\n",
       "      <td>69616</td>\n",
       "    </tr>\n",
       "    <tr>\n",
       "      <th>2021-04-29</th>\n",
       "      <td>3142.0</td>\n",
       "      <td>3156.3</td>\n",
       "      <td>3105.3999</td>\n",
       "      <td>3113.2</td>\n",
       "      <td>62825</td>\n",
       "    </tr>\n",
       "    <tr>\n",
       "      <th>2021-04-28</th>\n",
       "      <td>3143.0</td>\n",
       "      <td>3150.5</td>\n",
       "      <td>3112.0</td>\n",
       "      <td>3123.8</td>\n",
       "      <td>39238</td>\n",
       "    </tr>\n",
       "    <tr>\n",
       "      <th>2021-04-27</th>\n",
       "      <td>3103.0</td>\n",
       "      <td>3135.1001</td>\n",
       "      <td>3103.0</td>\n",
       "      <td>3131.6001</td>\n",
       "      <td>43362</td>\n",
       "    </tr>\n",
       "    <tr>\n",
       "      <th>2021-04-26</th>\n",
       "      <td>3109.8</td>\n",
       "      <td>3151.95</td>\n",
       "      <td>3088.1001</td>\n",
       "      <td>3101.1001</td>\n",
       "      <td>96633</td>\n",
       "    </tr>\n",
       "  </tbody>\n",
       "</table>\n",
       "</div>"
      ],
      "text/plain": [
       "              open       high        low      close volume\n",
       "2021-04-30  3111.0     3132.7     3021.0  3038.3999  69616\n",
       "2021-04-29  3142.0     3156.3  3105.3999     3113.2  62825\n",
       "2021-04-28  3143.0     3150.5     3112.0     3123.8  39238\n",
       "2021-04-27  3103.0  3135.1001     3103.0  3131.6001  43362\n",
       "2021-04-26  3109.8    3151.95  3088.1001  3101.1001  96633"
      ]
     },
     "execution_count": 70,
     "metadata": {},
     "output_type": "execute_result"
    }
   ],
   "source": [
    "df = df.rename(columns={'1. open':'open','2. high':'high','3. low':'low','4. close':'close','6. volume':'volume'})\n",
    "df = df [['open','high','low','close','volume']]\n",
    "df.head()"
   ]
  },
  {
   "cell_type": "markdown",
   "metadata": {},
   "source": [
    "### second way"
   ]
  },
  {
   "cell_type": "code",
   "execution_count": 72,
   "metadata": {},
   "outputs": [],
   "source": [
    "import os\n",
    "\n",
    "# os.environ['StockAPI1'] = ''\n",
    "key = os.getenv('StockAPI1')\n"
   ]
  },
  {
   "cell_type": "code",
   "execution_count": 85,
   "metadata": {},
   "outputs": [],
   "source": [
    "stock = 'TCS.BSE'\n",
    "\n",
    "from datetime import datetime\n",
    "sdate = datetime(2021,4,1)\n",
    "edate = datetime(2021,4,30)"
   ]
  },
  {
   "cell_type": "code",
   "execution_count": 90,
   "metadata": {},
   "outputs": [],
   "source": [
    "\n",
    "import pandas_datareader.data as web\n",
    "df = web.DataReader(stock, 'av-daily', start = sdate, end = edate, api_key = key)"
   ]
  },
  {
   "cell_type": "markdown",
   "metadata": {},
   "source": [
    "## EDA"
   ]
  },
  {
   "cell_type": "code",
   "execution_count": 91,
   "metadata": {},
   "outputs": [
    {
     "data": {
      "text/plain": [
       "<matplotlib.axes._subplots.AxesSubplot at 0x9207a4dcc8>"
      ]
     },
     "execution_count": 91,
     "metadata": {},
     "output_type": "execute_result"
    },
    {
     "data": {
      "image/png": "[encoded data removed]",
      "text/plain": [
       "<Figure size 432x288 with 1 Axes>"
      ]
     },
     "metadata": {
      "needs_background": "light"
     },
     "output_type": "display_data"
    }
   ],
   "source": [
    "df['close'].plot()"
   ]
  },
  {
   "cell_type": "code",
   "execution_count": 96,
   "metadata": {},
   "outputs": [
    {
     "data": {
      "text/plain": [
       "array([[0.44925988],\n",
       "       [0.70789299],\n",
       "       [0.79439789],\n",
       "       [0.81871042],\n",
       "       [0.97991544],\n",
       "       [1.        ],\n",
       "       [0.71546874],\n",
       "       [0.23467257],\n",
       "       [0.63618758],\n",
       "       [0.54580707],\n",
       "       [0.43939449],\n",
       "       [0.37244596],\n",
       "       [0.28435578],\n",
       "       [0.25158589],\n",
       "       [0.22093086],\n",
       "       [0.32840087],\n",
       "       [0.30091638],\n",
       "       [0.26356615],\n",
       "       [0.        ]])"
      ]
     },
     "execution_count": 96,
     "metadata": {},
     "output_type": "execute_result"
    }
   ],
   "source": [
    "import numpy as np\n",
    "from sklearn.preprocessing import MinMaxScaler\n",
    "\n",
    "scaler=MinMaxScaler()\n",
    "df_sc = scaler.fit_transform(np.array(df['close']).reshape(-1,1))\n"
   ]
  },
  {
   "cell_type": "code",
   "execution_count": 101,
   "metadata": {},
   "outputs": [],
   "source": [
    "train_size = int(len(df_sc)*0.65)\n",
    "test_size = len(df_sc) - train_size\n",
    "\n",
    "train_data = df_sc[:train_size,:] \n",
    "test_data = df_sc[train_size:,:]"
   ]
  },
  {
   "cell_type": "code",
   "execution_count": 119,
   "metadata": {},
   "outputs": [
    {
     "data": {
      "text/plain": [
       "array([ 1,  2,  3,  4,  5,  6,  7,  8,  9, 10, 11, 12, 13, 14, 15, 16, 17,\n",
       "       18, 19, 20])"
      ]
     },
     "execution_count": 119,
     "metadata": {},
     "output_type": "execute_result"
    }
   ],
   "source": [
    "k = np.arange(1,21)\n",
    "k"
   ]
  },
  {
   "cell_type": "code",
   "execution_count": 148,
   "metadata": {},
   "outputs": [],
   "source": [
    "def create_dataset(data,step=1):\n",
    "    a=[]\n",
    "    b=[]\n",
    "    for i in range(len(data)-step):\n",
    "        a.append(data[i:i+step])\n",
    "        b.append(data[i+step])\n",
    "    return np.array(a),np.array(b)"
   ]
  },
  {
   "cell_type": "code",
   "execution_count": 149,
   "metadata": {},
   "outputs": [],
   "source": [
    "xtrain,ytrain = create_dataset(train_data,2)"
   ]
  },
  {
   "cell_type": "code",
   "execution_count": 150,
   "metadata": {},
   "outputs": [],
   "source": [
    "xtest,ytest = create_dataset(test_data,2)"
   ]
  },
  {
   "cell_type": "code",
   "execution_count": 154,
   "metadata": {},
   "outputs": [
    {
     "data": {
      "text/plain": [
       "(10, 1)"
      ]
     },
     "execution_count": 154,
     "metadata": {},
     "output_type": "execute_result"
    }
   ],
   "source": [
    "ytrain.shape\n"
   ]
  }
 ],
 "metadata": {
  "kernelspec": {
   "display_name": "Python 3",
   "language": "python",
   "name": "python3"
  },
  "language_info": {
   "codemirror_mode": {
    "name": "ipython",
    "version": 3
   },
   "file_extension": ".py",
   "mimetype": "text/x-python",
   "name": "python",
   "nbconvert_exporter": "python",
   "pygments_lexer": "ipython3",
   "version": "3.7.4"
  }
 },
 "nbformat": 4,
 "nbformat_minor": 2
}
