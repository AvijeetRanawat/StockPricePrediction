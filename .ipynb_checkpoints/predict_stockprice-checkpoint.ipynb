{
 "cells": [
  {
   "cell_type": "code",
   "execution_count": 1,
   "id": "3a08d89c",
   "metadata": {},
   "outputs": [],
   "source": [
    "import pandas as pd\n",
    "import seaborn as sns\n",
    "import numpy as np"
   ]
  },
  {
   "cell_type": "code",
   "execution_count": 2,
   "id": "3a5af8bc",
   "metadata": {},
   "outputs": [
    {
     "data": {
      "text/html": [
       "<div>\n",
       "<style scoped>\n",
       "    .dataframe tbody tr th:only-of-type {\n",
       "        vertical-align: middle;\n",
       "    }\n",
       "\n",
       "    .dataframe tbody tr th {\n",
       "        vertical-align: top;\n",
       "    }\n",
       "\n",
       "    .dataframe thead th {\n",
       "        text-align: right;\n",
       "    }\n",
       "</style>\n",
       "<table border=\"1\" class=\"dataframe\">\n",
       "  <thead>\n",
       "    <tr style=\"text-align: right;\">\n",
       "      <th></th>\n",
       "      <th>Date</th>\n",
       "      <th>Open</th>\n",
       "      <th>High</th>\n",
       "      <th>Low</th>\n",
       "      <th>Close</th>\n",
       "      <th>Volume</th>\n",
       "    </tr>\n",
       "  </thead>\n",
       "  <tbody>\n",
       "    <tr>\n",
       "      <th>0</th>\n",
       "      <td>1/3/2012</td>\n",
       "      <td>325.25</td>\n",
       "      <td>332.83</td>\n",
       "      <td>324.97</td>\n",
       "      <td>663.59</td>\n",
       "      <td>7,380,500</td>\n",
       "    </tr>\n",
       "    <tr>\n",
       "      <th>1</th>\n",
       "      <td>1/4/2012</td>\n",
       "      <td>331.27</td>\n",
       "      <td>333.87</td>\n",
       "      <td>329.08</td>\n",
       "      <td>666.45</td>\n",
       "      <td>5,749,400</td>\n",
       "    </tr>\n",
       "    <tr>\n",
       "      <th>2</th>\n",
       "      <td>1/5/2012</td>\n",
       "      <td>329.83</td>\n",
       "      <td>330.75</td>\n",
       "      <td>326.89</td>\n",
       "      <td>657.21</td>\n",
       "      <td>6,590,300</td>\n",
       "    </tr>\n",
       "    <tr>\n",
       "      <th>3</th>\n",
       "      <td>1/6/2012</td>\n",
       "      <td>328.34</td>\n",
       "      <td>328.77</td>\n",
       "      <td>323.68</td>\n",
       "      <td>648.24</td>\n",
       "      <td>5,405,900</td>\n",
       "    </tr>\n",
       "    <tr>\n",
       "      <th>4</th>\n",
       "      <td>1/9/2012</td>\n",
       "      <td>322.04</td>\n",
       "      <td>322.29</td>\n",
       "      <td>309.46</td>\n",
       "      <td>620.76</td>\n",
       "      <td>11,688,800</td>\n",
       "    </tr>\n",
       "  </tbody>\n",
       "</table>\n",
       "</div>"
      ],
      "text/plain": [
       "       Date    Open    High     Low   Close      Volume\n",
       "0  1/3/2012  325.25  332.83  324.97  663.59   7,380,500\n",
       "1  1/4/2012  331.27  333.87  329.08  666.45   5,749,400\n",
       "2  1/5/2012  329.83  330.75  326.89  657.21   6,590,300\n",
       "3  1/6/2012  328.34  328.77  323.68  648.24   5,405,900\n",
       "4  1/9/2012  322.04  322.29  309.46  620.76  11,688,800"
      ]
     },
     "execution_count": 2,
     "metadata": {},
     "output_type": "execute_result"
    }
   ],
   "source": [
    "df = pd.read_csv('Google_Stock_Price_Train.csv')\n",
    "df.head()"
   ]
  },
  {
   "cell_type": "code",
   "execution_count": 3,
   "id": "95402581",
   "metadata": {},
   "outputs": [],
   "source": [
    "training = df['Open'].values\n",
    "training =training.reshape(-1, 1)"
   ]
  },
  {
   "cell_type": "code",
   "execution_count": 4,
   "id": "a48240d1",
   "metadata": {},
   "outputs": [],
   "source": [
    "from sklearn.preprocessing import MinMaxScaler\n",
    "scale = MinMaxScaler()\n",
    "train_scaled = scale.fit_transform(training)\n"
   ]
  },
  {
   "cell_type": "code",
   "execution_count": 5,
   "id": "bbcaca74",
   "metadata": {},
   "outputs": [],
   "source": [
    "X_train=[]\n",
    "y_train=[]\n",
    "\n",
    "for i in range(60,len(train_scaled)):\n",
    "    X_train.append(train_scaled[i-60:i,0])\n",
    "    y_train.append(train_scaled[i,0])\n",
    "X_train, y_train = np.array(X_train),np.array(y_train)\n"
   ]
  },
  {
   "cell_type": "code",
   "execution_count": 6,
   "id": "e7c49f44",
   "metadata": {},
   "outputs": [
    {
     "data": {
      "text/plain": [
       "(1198, 60, 1)"
      ]
     },
     "execution_count": 6,
     "metadata": {},
     "output_type": "execute_result"
    }
   ],
   "source": [
    "X_train = np.reshape(X_train,(X_train.shape[0],X_train.shape[1],1))\n",
    "X_train.shape"
   ]
  },
  {
   "cell_type": "code",
   "execution_count": null,
   "id": "2a064289",
   "metadata": {},
   "outputs": [],
   "source": []
  },
  {
   "cell_type": "code",
   "execution_count": 7,
   "id": "b294e6ad",
   "metadata": {},
   "outputs": [],
   "source": [
    "from tensorflow.keras.models import Sequential\n",
    "from tensorflow.keras.layers import Dense,LSTM,Dropout"
   ]
  },
  {
   "cell_type": "code",
   "execution_count": 8,
   "id": "f7809a53",
   "metadata": {},
   "outputs": [],
   "source": [
    "model = Sequential()\n",
    "model.add(LSTM(units=50, return_sequences=True, input_shape = (X_train.shape[1],1)))\n",
    "model.add(Dropout(0.2))\n",
    "\n",
    "model.add(LSTM(units=50, return_sequences=True))\n",
    "model.add(Dropout(0.2))\n",
    "\n",
    "model.add(LSTM(units=50, return_sequences=True))\n",
    "model.add(Dropout(0.2))\n",
    "\n",
    "model.add(LSTM(units=50))\n",
    "model.add(Dropout(0.2))\n",
    "\n",
    "model.add(Dense(units=1))\n",
    "\n",
    "model.compile(optimizer = 'adam',loss= 'mean_squared_error')"
   ]
  },
  {
   "cell_type": "code",
   "execution_count": 9,
   "id": "7decbdb2",
   "metadata": {},
   "outputs": [
    {
     "name": "stdout",
     "output_type": "stream",
     "text": [
      "Train on 1198 samples\n",
      "Epoch 1/15\n",
      "1198/1198 [==============================] - 42s 35ms/sample - loss: 0.0526\n",
      "Epoch 2/15\n",
      "1198/1198 [==============================] - 18s 15ms/sample - loss: 0.0061\n",
      "Epoch 3/15\n",
      "1198/1198 [==============================] - 18s 15ms/sample - loss: 0.0049\n",
      "Epoch 4/15\n",
      "1198/1198 [==============================] - 16s 13ms/sample - loss: 0.0049\n",
      "Epoch 5/15\n",
      "1198/1198 [==============================] - 15s 13ms/sample - loss: 0.0046\n",
      "Epoch 6/15\n",
      "1198/1198 [==============================] - 17s 15ms/sample - loss: 0.0053\n",
      "Epoch 7/15\n",
      "1198/1198 [==============================] - 15s 12ms/sample - loss: 0.0045\n",
      "Epoch 8/15\n",
      "1198/1198 [==============================] - 14s 12ms/sample - loss: 0.0044\n",
      "Epoch 9/15\n",
      "1198/1198 [==============================] - 14s 12ms/sample - loss: 0.0040\n",
      "Epoch 10/15\n",
      "1198/1198 [==============================] - 14s 12ms/sample - loss: 0.0048\n",
      "Epoch 11/15\n",
      "1198/1198 [==============================] - 14s 12ms/sample - loss: 0.0039\n",
      "Epoch 12/15\n",
      "1198/1198 [==============================] - 14s 12ms/sample - loss: 0.0036\n",
      "Epoch 13/15\n",
      "1198/1198 [==============================] - 14s 12ms/sample - loss: 0.0041\n",
      "Epoch 14/15\n",
      "1198/1198 [==============================] - 14s 12ms/sample - loss: 0.0042\n",
      "Epoch 15/15\n",
      "1198/1198 [==============================] - 14s 12ms/sample - loss: 0.0044\n"
     ]
    },
    {
     "data": {
      "text/plain": [
       "<tensorflow.python.keras.callbacks.History at 0xdb885f3c88>"
      ]
     },
     "execution_count": 9,
     "metadata": {},
     "output_type": "execute_result"
    }
   ],
   "source": [
    "model.fit(X_train,y_train,epochs=15,batch_size=32)\n"
   ]
  },
  {
   "cell_type": "code",
   "execution_count": 10,
   "id": "55330e90",
   "metadata": {},
   "outputs": [],
   "source": [
    "test = pd.read_csv('Google_Stock_Price_Test.csv')\n",
    "testv = test['Open']\n",
    "testv = testv.values"
   ]
  },
  {
   "cell_type": "code",
   "execution_count": 11,
   "id": "24dcf12f",
   "metadata": {},
   "outputs": [
    {
     "data": {
      "text/plain": [
       "0    325.25\n",
       "1    331.27\n",
       "2    329.83\n",
       "3    328.34\n",
       "4    322.04\n",
       "Name: Open, dtype: float64"
      ]
     },
     "execution_count": 11,
     "metadata": {},
     "output_type": "execute_result"
    }
   ],
   "source": [
    "dataset = pd.concat((df['Open'],test['Open']),axis=0)\n",
    "dataset.head()"
   ]
  },
  {
   "cell_type": "code",
   "execution_count": 13,
   "id": "dd054476",
   "metadata": {},
   "outputs": [],
   "source": [
    "inputs = dataset[len(dataset)-len(test)-60:].values\n",
    "inputs = inputs.reshape(-1,1)\n",
    "inputs = scale.transform(inputs)\n",
    "\n",
    "X_test=[]\n",
    "\n",
    "for i in range(60,80):\n",
    "    X_test.append(inputs[i-60:i,0])\n",
    "X_test = np.array(X_test)"
   ]
  },
  {
   "cell_type": "code",
   "execution_count": 14,
   "id": "8c87ece1",
   "metadata": {},
   "outputs": [],
   "source": [
    "X_test = np.reshape(X_test,(X_test.shape[0],X_test.shape[1],1))\n",
    "pred = model.predict(X_test)"
   ]
  },
  {
   "cell_type": "code",
   "execution_count": 18,
   "id": "304d56e5",
   "metadata": {},
   "outputs": [],
   "source": [
    "pred=scale.inverse_transform(pred)\n"
   ]
  },
  {
   "cell_type": "code",
   "execution_count": 19,
   "id": "be1fb489",
   "metadata": {},
   "outputs": [
    {
     "data": {
      "image/png": "[encoded data removed]",
      "text/plain": [
       "<Figure size 432x288 with 1 Axes>"
      ]
     },
     "metadata": {
      "needs_background": "light"
     },
     "output_type": "display_data"
    }
   ],
   "source": [
    "import matplotlib.pyplot as plt\n",
    "plt.plot(testv,color='red',label='real stock price')\n",
    "plt.plot(pred,color='blue',label='pred stock price')\n",
    "plt.xlabel('time')\n",
    "plt.ylabel('price')\n",
    "plt.legend()\n",
    "plt.show()"
   ]
  }
 ],
 "metadata": {
  "kernelspec": {
   "display_name": "Python 3",
   "language": "python",
   "name": "python3"
  },
  "language_info": {
   "codemirror_mode": {
    "name": "ipython",
    "version": 3
   },
   "file_extension": ".py",
   "mimetype": "text/x-python",
   "name": "python",
   "nbconvert_exporter": "python",
   "pygments_lexer": "ipython3",
   "version": "3.7.4"
  }
 },
 "nbformat": 4,
 "nbformat_minor": 5
}
