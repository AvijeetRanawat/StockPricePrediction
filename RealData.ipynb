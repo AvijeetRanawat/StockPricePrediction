{
  "nbformat": 4,
  "nbformat_minor": 0,
  "metadata": {
    "kernelspec": {
      "display_name": "Python 3",
      "language": "python",
      "name": "python3"
    },
    "language_info": {
      "codemirror_mode": {
        "name": "ipython",
        "version": 3
      },
      "file_extension": ".py",
      "mimetype": "text/x-python",
      "name": "python",
      "nbconvert_exporter": "python",
      "pygments_lexer": "ipython3",
      "version": "3.7.4"
    },
    "colab": {
      "name": "RealData.ipynb",
      "provenance": []
    }
  },
  "cells": [
    {
      "cell_type": "markdown",
      "metadata": {
        "id": "VdwtAq0EOK3w"
      },
      "source": [
        "# Stock Market Prediction And Forecasting Using Stacked LSTM"
      ]
    },
    {
      "cell_type": "markdown",
      "metadata": {
        "id": "ZjuYlNIBOK34"
      },
      "source": [
        "## Get Data"
      ]
    },
    {
      "cell_type": "markdown",
      "metadata": {
        "id": "KQHiAOeUOK35"
      },
      "source": [
        "### one way"
      ]
    },
    {
      "cell_type": "code",
      "metadata": {
        "id": "836DGrKYOK36"
      },
      "source": [
        "\n",
        "import pandas as pd"
      ],
      "execution_count": 1,
      "outputs": []
    },
    {
      "cell_type": "code",
      "metadata": {
        "id": "zErRz6UNOK37"
      },
      "source": [
        "key=''\n",
        "stock = 'TCS.BSE'"
      ],
      "execution_count": 2,
      "outputs": []
    },
    {
      "cell_type": "code",
      "metadata": {
        "id": "xMXzsTnSOK38"
      },
      "source": [
        "url = 'https://www.alphavantage.co/query?function=TIME_SERIES_DAILY_ADJUSTED&symbol='+ stock +'&outputsize=compact&apikey='+key#+'&datatype=csv'"
      ],
      "execution_count": 3,
      "outputs": []
    },
    {
      "cell_type": "code",
      "metadata": {
        "scrolled": false,
        "id": "YX3BeacMOK38"
      },
      "source": [
        "import urllib.request\n",
        "\n",
        "weburl = urllib.request.urlopen(url)\n",
        "data = weburl.read()\n"
      ],
      "execution_count": 4,
      "outputs": []
    },
    {
      "cell_type": "code",
      "metadata": {
        "id": "2OMQaKFvOK39"
      },
      "source": [
        "from ast import literal_eval\n",
        "\n",
        "data = literal_eval(data.decode('utf-8'))"
      ],
      "execution_count": 5,
      "outputs": []
    },
    {
      "cell_type": "code",
      "metadata": {
        "id": "APSUGGp3OK3-"
      },
      "source": [
        "# import json\n",
        "\n",
        "# result = json.dumps(data, indent=4, sort_keys=True)"
      ],
      "execution_count": 6,
      "outputs": []
    },
    {
      "cell_type": "code",
      "metadata": {
        "colab": {
          "base_uri": "https://localhost:8080/",
          "height": 198
        },
        "id": "BUtFMqvDOK3-",
        "outputId": "3cc8b6bf-b5bc-49ab-c550-91b8f7aa8384"
      },
      "source": [
        "df = pd.DataFrame(data.get('Time Series (Daily)'))\n",
        "df = df.T\n",
        "df.head()"
      ],
      "execution_count": 7,
      "outputs": [
        {
          "output_type": "execute_result",
          "data": {
            "text/html": [
              "<div>\n",
              "<style scoped>\n",
              "    .dataframe tbody tr th:only-of-type {\n",
              "        vertical-align: middle;\n",
              "    }\n",
              "\n",
              "    .dataframe tbody tr th {\n",
              "        vertical-align: top;\n",
              "    }\n",
              "\n",
              "    .dataframe thead th {\n",
              "        text-align: right;\n",
              "    }\n",
              "</style>\n",
              "<table border=\"1\" class=\"dataframe\">\n",
              "  <thead>\n",
              "    <tr style=\"text-align: right;\">\n",
              "      <th></th>\n",
              "      <th>1. open</th>\n",
              "      <th>2. high</th>\n",
              "      <th>3. low</th>\n",
              "      <th>4. close</th>\n",
              "      <th>5. adjusted close</th>\n",
              "      <th>6. volume</th>\n",
              "      <th>7. dividend amount</th>\n",
              "      <th>8. split coefficient</th>\n",
              "    </tr>\n",
              "  </thead>\n",
              "  <tbody>\n",
              "    <tr>\n",
              "      <th>2021-05-21</th>\n",
              "      <td>3065.0</td>\n",
              "      <td>3087.8999</td>\n",
              "      <td>3055.3501</td>\n",
              "      <td>3080.3999</td>\n",
              "      <td>3080.3999</td>\n",
              "      <td>25700</td>\n",
              "      <td>0.0000</td>\n",
              "      <td>1.0</td>\n",
              "    </tr>\n",
              "    <tr>\n",
              "      <th>2021-05-20</th>\n",
              "      <td>3074.0</td>\n",
              "      <td>3087.55</td>\n",
              "      <td>3053.0</td>\n",
              "      <td>3060.0</td>\n",
              "      <td>3060.0</td>\n",
              "      <td>44081</td>\n",
              "      <td>0.0000</td>\n",
              "      <td>1.0</td>\n",
              "    </tr>\n",
              "    <tr>\n",
              "      <th>2021-05-19</th>\n",
              "      <td>3080.0</td>\n",
              "      <td>3118.0</td>\n",
              "      <td>3066.05</td>\n",
              "      <td>3081.95</td>\n",
              "      <td>3081.95</td>\n",
              "      <td>63943</td>\n",
              "      <td>0.0000</td>\n",
              "      <td>1.0</td>\n",
              "    </tr>\n",
              "    <tr>\n",
              "      <th>2021-05-18</th>\n",
              "      <td>3095.0</td>\n",
              "      <td>3123.0</td>\n",
              "      <td>3078.7</td>\n",
              "      <td>3089.3501</td>\n",
              "      <td>3089.3501</td>\n",
              "      <td>71234</td>\n",
              "      <td>0.0000</td>\n",
              "      <td>1.0</td>\n",
              "    </tr>\n",
              "    <tr>\n",
              "      <th>2021-05-17</th>\n",
              "      <td>3060.0</td>\n",
              "      <td>3077.0</td>\n",
              "      <td>3035.6499</td>\n",
              "      <td>3069.8</td>\n",
              "      <td>3069.8</td>\n",
              "      <td>101499</td>\n",
              "      <td>0.0000</td>\n",
              "      <td>1.0</td>\n",
              "    </tr>\n",
              "  </tbody>\n",
              "</table>\n",
              "</div>"
            ],
            "text/plain": [
              "           1. open    2. high  ... 7. dividend amount 8. split coefficient\n",
              "2021-05-21  3065.0  3087.8999  ...             0.0000                  1.0\n",
              "2021-05-20  3074.0    3087.55  ...             0.0000                  1.0\n",
              "2021-05-19  3080.0     3118.0  ...             0.0000                  1.0\n",
              "2021-05-18  3095.0     3123.0  ...             0.0000                  1.0\n",
              "2021-05-17  3060.0     3077.0  ...             0.0000                  1.0\n",
              "\n",
              "[5 rows x 8 columns]"
            ]
          },
          "metadata": {
            "tags": []
          },
          "execution_count": 7
        }
      ]
    },
    {
      "cell_type": "code",
      "metadata": {
        "colab": {
          "base_uri": "https://localhost:8080/"
        },
        "id": "H_4BluOOOK4A",
        "outputId": "32dc0b30-7f74-46ea-99ba-4c93f98a6c5a"
      },
      "source": [
        "df.columns"
      ],
      "execution_count": 8,
      "outputs": [
        {
          "output_type": "execute_result",
          "data": {
            "text/plain": [
              "Index(['1. open', '2. high', '3. low', '4. close', '5. adjusted close',\n",
              "       '6. volume', '7. dividend amount', '8. split coefficient'],\n",
              "      dtype='object')"
            ]
          },
          "metadata": {
            "tags": []
          },
          "execution_count": 8
        }
      ]
    },
    {
      "cell_type": "code",
      "metadata": {
        "colab": {
          "base_uri": "https://localhost:8080/",
          "height": 198
        },
        "id": "HFh2nIJ5OK4B",
        "outputId": "43ba1f2f-eced-4b6f-90ba-974f35290025"
      },
      "source": [
        "df = df.rename(columns={'1. open':'open','2. high':'high','3. low':'low','4. close':'close','6. volume':'volume'})\n",
        "df = df [['open','high','low','close','volume']]\n",
        "df.head()"
      ],
      "execution_count": 9,
      "outputs": [
        {
          "output_type": "execute_result",
          "data": {
            "text/html": [
              "<div>\n",
              "<style scoped>\n",
              "    .dataframe tbody tr th:only-of-type {\n",
              "        vertical-align: middle;\n",
              "    }\n",
              "\n",
              "    .dataframe tbody tr th {\n",
              "        vertical-align: top;\n",
              "    }\n",
              "\n",
              "    .dataframe thead th {\n",
              "        text-align: right;\n",
              "    }\n",
              "</style>\n",
              "<table border=\"1\" class=\"dataframe\">\n",
              "  <thead>\n",
              "    <tr style=\"text-align: right;\">\n",
              "      <th></th>\n",
              "      <th>open</th>\n",
              "      <th>high</th>\n",
              "      <th>low</th>\n",
              "      <th>close</th>\n",
              "      <th>volume</th>\n",
              "    </tr>\n",
              "  </thead>\n",
              "  <tbody>\n",
              "    <tr>\n",
              "      <th>2021-05-21</th>\n",
              "      <td>3065.0</td>\n",
              "      <td>3087.8999</td>\n",
              "      <td>3055.3501</td>\n",
              "      <td>3080.3999</td>\n",
              "      <td>25700</td>\n",
              "    </tr>\n",
              "    <tr>\n",
              "      <th>2021-05-20</th>\n",
              "      <td>3074.0</td>\n",
              "      <td>3087.55</td>\n",
              "      <td>3053.0</td>\n",
              "      <td>3060.0</td>\n",
              "      <td>44081</td>\n",
              "    </tr>\n",
              "    <tr>\n",
              "      <th>2021-05-19</th>\n",
              "      <td>3080.0</td>\n",
              "      <td>3118.0</td>\n",
              "      <td>3066.05</td>\n",
              "      <td>3081.95</td>\n",
              "      <td>63943</td>\n",
              "    </tr>\n",
              "    <tr>\n",
              "      <th>2021-05-18</th>\n",
              "      <td>3095.0</td>\n",
              "      <td>3123.0</td>\n",
              "      <td>3078.7</td>\n",
              "      <td>3089.3501</td>\n",
              "      <td>71234</td>\n",
              "    </tr>\n",
              "    <tr>\n",
              "      <th>2021-05-17</th>\n",
              "      <td>3060.0</td>\n",
              "      <td>3077.0</td>\n",
              "      <td>3035.6499</td>\n",
              "      <td>3069.8</td>\n",
              "      <td>101499</td>\n",
              "    </tr>\n",
              "  </tbody>\n",
              "</table>\n",
              "</div>"
            ],
            "text/plain": [
              "              open       high        low      close  volume\n",
              "2021-05-21  3065.0  3087.8999  3055.3501  3080.3999   25700\n",
              "2021-05-20  3074.0    3087.55     3053.0     3060.0   44081\n",
              "2021-05-19  3080.0     3118.0    3066.05    3081.95   63943\n",
              "2021-05-18  3095.0     3123.0     3078.7  3089.3501   71234\n",
              "2021-05-17  3060.0     3077.0  3035.6499     3069.8  101499"
            ]
          },
          "metadata": {
            "tags": []
          },
          "execution_count": 9
        }
      ]
    },
    {
      "cell_type": "markdown",
      "metadata": {
        "id": "37vnE0UtftDM"
      },
      "source": [
        ""
      ]
    },
    {
      "cell_type": "markdown",
      "metadata": {
        "id": "DT1hKazIOK4C"
      },
      "source": [
        "### second way"
      ]
    },
    {
      "cell_type": "code",
      "metadata": {
        "id": "nKDLOXSWOK4D"
      },
      "source": [
        "# import os\n",
        "\n",
        "# # os.environ['StockAPI1'] = ''\n",
        "# key = os.getenv('StockAPI1')\n"
      ],
      "execution_count": 10,
      "outputs": []
    },
    {
      "cell_type": "code",
      "metadata": {
        "id": "TV26FNH0OK4D"
      },
      "source": [
        "stock = 'TCS.BSE'\n",
        "\n",
        "from datetime import datetime\n",
        "sdate = datetime(2018,6,1)\n",
        "edate = datetime(2021,4,30)"
      ],
      "execution_count": 11,
      "outputs": []
    },
    {
      "cell_type": "code",
      "metadata": {
        "id": "1mJoEGa7OK4E"
      },
      "source": [
        "\n",
        "import pandas_datareader.data as web\n",
        "df = web.DataReader(stock, 'av-daily', start = sdate, end = edate, api_key = key)"
      ],
      "execution_count": 12,
      "outputs": []
    },
    {
      "cell_type": "markdown",
      "metadata": {
        "id": "qZ0FB0DdOK4E"
      },
      "source": [
        "## EDA"
      ]
    },
    {
      "cell_type": "code",
      "metadata": {
        "colab": {
          "base_uri": "https://localhost:8080/",
          "height": 283
        },
        "id": "56jGKOVhOK4F",
        "outputId": "b4c9b100-8f40-4f78-9692-6b9ddb9172b7"
      },
      "source": [
        "df['close'].plot()"
      ],
      "execution_count": 13,
      "outputs": [
        {
          "output_type": "execute_result",
          "data": {
            "text/plain": [
              "<matplotlib.axes._subplots.AxesSubplot at 0x7f5700336e50>"
            ]
          },
          "metadata": {
            "tags": []
          },
          "execution_count": 13
        },
        {
          "output_type": "display_data",
          "data": {
            "image/png": "[encoded data removed]",
            "text/plain": [
              "<Figure size 432x288 with 1 Axes>"
            ]
          },
          "metadata": {
            "tags": [],
            "needs_background": "light"
          }
        }
      ]
    },
    {
      "cell_type": "code",
      "metadata": {
        "id": "DM1hUHEaOK4F"
      },
      "source": [
        "import numpy as np\n",
        "from sklearn.preprocessing import MinMaxScaler\n",
        "\n",
        "scaler=MinMaxScaler()\n",
        "df_sc = scaler.fit_transform(np.array(df['close']).reshape(-1,1))\n"
      ],
      "execution_count": 14,
      "outputs": []
    },
    {
      "cell_type": "code",
      "metadata": {
        "id": "v00hbfxJOK4G"
      },
      "source": [
        "train_size = int(len(df_sc)*0.85)\n",
        "test_size = len(df_sc) - train_size\n",
        "\n",
        "train_data = df_sc[:train_size,:] \n",
        "test_data = df_sc[train_size:,:]"
      ],
      "execution_count": 15,
      "outputs": []
    },
    {
      "cell_type": "code",
      "metadata": {
        "colab": {
          "base_uri": "https://localhost:8080/"
        },
        "id": "LxFjDndBQRCA",
        "outputId": "02bb4730-35ce-41dd-9201-00a148174e70"
      },
      "source": [
        "train_data.shape"
      ],
      "execution_count": 16,
      "outputs": [
        {
          "output_type": "execute_result",
          "data": {
            "text/plain": [
              "(608, 1)"
            ]
          },
          "metadata": {
            "tags": []
          },
          "execution_count": 16
        }
      ]
    },
    {
      "cell_type": "code",
      "metadata": {
        "colab": {
          "base_uri": "https://localhost:8080/"
        },
        "id": "ZFL24I0LOK4G",
        "outputId": "e8a8f548-2787-4027-c245-3d2b621b07d6"
      },
      "source": [
        "k = np.arange(1,21)\n",
        "k"
      ],
      "execution_count": 17,
      "outputs": [
        {
          "output_type": "execute_result",
          "data": {
            "text/plain": [
              "array([ 1,  2,  3,  4,  5,  6,  7,  8,  9, 10, 11, 12, 13, 14, 15, 16, 17,\n",
              "       18, 19, 20])"
            ]
          },
          "metadata": {
            "tags": []
          },
          "execution_count": 17
        }
      ]
    },
    {
      "cell_type": "code",
      "metadata": {
        "id": "_vLF2LVCOK4H"
      },
      "source": [
        "def create_dataset(data,step=1):\n",
        "    a=[]\n",
        "    b=[]\n",
        "    for i in range(len(data)-step):\n",
        "        a.append(data[i:i+step])\n",
        "        b.append(data[i+step])\n",
        "    return np.array(a),np.array(b)"
      ],
      "execution_count": 18,
      "outputs": []
    },
    {
      "cell_type": "code",
      "metadata": {
        "id": "MqQr6z3qa9TS"
      },
      "source": [
        "# how many previous days to consider\n",
        "back_days = 15"
      ],
      "execution_count": 19,
      "outputs": []
    },
    {
      "cell_type": "code",
      "metadata": {
        "id": "pQuEUBLzOK4I"
      },
      "source": [
        "xtrain,ytrain = create_dataset(train_data,back_days)"
      ],
      "execution_count": 20,
      "outputs": []
    },
    {
      "cell_type": "code",
      "metadata": {
        "id": "HWaiVXztOK4I"
      },
      "source": [
        "xtest,ytest = create_dataset(test_data,back_days)"
      ],
      "execution_count": 21,
      "outputs": []
    },
    {
      "cell_type": "code",
      "metadata": {
        "colab": {
          "base_uri": "https://localhost:8080/"
        },
        "id": "pQz7capJOK4I",
        "outputId": "e6e14db1-12b3-47d6-cc85-85bced4881b9"
      },
      "source": [
        "xtrain.shape"
      ],
      "execution_count": 22,
      "outputs": [
        {
          "output_type": "execute_result",
          "data": {
            "text/plain": [
              "(578, 30, 1)"
            ]
          },
          "metadata": {
            "tags": []
          },
          "execution_count": 22
        }
      ]
    },
    {
      "cell_type": "code",
      "metadata": {
        "colab": {
          "base_uri": "https://localhost:8080/"
        },
        "id": "96v3pn9ePt6a",
        "outputId": "8f8fe538-1aa7-44ec-f8a0-48c8d33cd424"
      },
      "source": [
        "ytrain.shape"
      ],
      "execution_count": 23,
      "outputs": [
        {
          "output_type": "execute_result",
          "data": {
            "text/plain": [
              "(578, 1)"
            ]
          },
          "metadata": {
            "tags": []
          },
          "execution_count": 23
        }
      ]
    },
    {
      "cell_type": "code",
      "metadata": {
        "colab": {
          "base_uri": "https://localhost:8080/"
        },
        "id": "Fg1UUuxvRFlm",
        "outputId": "f4a14fa2-7dee-432c-9d50-2fb8c508bf7f"
      },
      "source": [
        "xtest.shape"
      ],
      "execution_count": 24,
      "outputs": [
        {
          "output_type": "execute_result",
          "data": {
            "text/plain": [
              "(78, 30, 1)"
            ]
          },
          "metadata": {
            "tags": []
          },
          "execution_count": 24
        }
      ]
    },
    {
      "cell_type": "code",
      "metadata": {
        "id": "FExU-DpRSBow"
      },
      "source": [
        "from tensorflow.keras.models import Sequential\n",
        "from tensorflow.keras.layers import Dense, LSTM\n",
        "from kerastuner.tuners import RandomSearch\n",
        "from tensorflow.keras import layers\n",
        "from tensorflow import keras\n"
      ],
      "execution_count": 69,
      "outputs": []
    },
    {
      "cell_type": "code",
      "metadata": {
        "colab": {
          "base_uri": "https://localhost:8080/"
        },
        "id": "BkVugAaV9vy2",
        "outputId": "df280c45-1101-4f2d-a5cd-5d8acda0b0ab"
      },
      "source": [
        "from tensorflow import keras\n",
        "from kerastuner.tuners import BayesianOptimization\n",
        "import os\n",
        "\n",
        "n_input = back_days\n",
        "def build_model(hp):\n",
        "    model = Sequential()\n",
        "    model.add(LSTM(units=hp.Int('units',min_value=32,\n",
        "                                    max_value=512,\n",
        "                                    step=32), \n",
        "               activation='relu', input_shape=(n_input, 1)))\n",
        "    model.add(Dense(units=hp.Int('units',min_value=32,\n",
        "                                    max_value=512,\n",
        "                                    step=32), activation='relu'))\n",
        "    model.add(Dense(1))\n",
        "    model.compile(loss='mse', metrics=['mse'], optimizer=keras.optimizers.Adam(\n",
        "        hp.Choice('learning_rate',\n",
        "                  values=[1e-2, 1e-3, 1e-4])))\n",
        "    return model\n",
        "\n",
        "bayesian_opt_tuner = BayesianOptimization(\n",
        "    build_model,\n",
        "    objective='mse',\n",
        "    max_trials=15,\n",
        "    executions_per_trial=2,\n",
        "    directory=os.path.normpath('A:/keras_tuning'),\n",
        "    project_name='StockIndex_keras',\n",
        "    overwrite=True)\n",
        "\n",
        "bayesian_opt_tuner.search(xtrain, ytrain,epochs=50,batch_size=32,\n",
        "     validation_data=(xtest,ytest),verbose=1)\n",
        "\n",
        "\n",
        "bayes_opt_model_best_model = bayesian_opt_tuner.get_best_models(num_models=1)\n",
        "model = bayes_opt_model_best_model[0]"
      ],
      "execution_count": 105,
      "outputs": [
        {
          "output_type": "stream",
          "text": [
            "Trial 15 Complete [00h 00m 43s]\n",
            "mse: 0.0010406881337985396\n",
            "\n",
            "Best mse So Far: 0.0004964709223713726\n",
            "Total elapsed time: 01h 49m 29s\n",
            "INFO:tensorflow:Oracle triggered exit\n"
          ],
          "name": "stdout"
        }
      ]
    },
    {
      "cell_type": "code",
      "metadata": {
        "id": "2MpxvRCC8hUV"
      },
      "source": [
        "\n",
        "# model.add(LSTM(50,return_sequences=True, input_shape=(back_days,1)))\n",
        "# model.add(LSTM(50,return_sequences=True))\n",
        "# model.add(LSTM(50))\n",
        "# model.add(Dense(1))\n",
        "# model.compile(loss='mean_squared_error',optimizer='adam')"
      ],
      "execution_count": null,
      "outputs": []
    },
    {
      "cell_type": "code",
      "metadata": {
        "id": "TyS72QVOTbvd"
      },
      "source": [
        "# model.fit(xtrain,ytrain,validation_data=(xtest,ytest),epochs=100,batch_size=32,verbose=1)"
      ],
      "execution_count": null,
      "outputs": []
    },
    {
      "cell_type": "code",
      "metadata": {
        "id": "LesiiF61UmCm"
      },
      "source": [
        "train_predict=model.predict(xtrain)\n",
        "test_predict=model.predict(xtest)"
      ],
      "execution_count": 76,
      "outputs": []
    },
    {
      "cell_type": "code",
      "metadata": {
        "id": "tq0KxQJGUnG0"
      },
      "source": [
        "train_predict=scaler.inverse_transform(train_predict)\n",
        "test_predict=scaler.inverse_transform(test_predict)"
      ],
      "execution_count": 77,
      "outputs": []
    },
    {
      "cell_type": "code",
      "metadata": {
        "id": "orp-qZ2tYd3i"
      },
      "source": [
        "import numpy\n",
        "testPredictPlot = numpy.empty_like(df1)\n",
        "testPredictPlot[:, :] = numpy.nan"
      ],
      "execution_count": 78,
      "outputs": []
    },
    {
      "cell_type": "code",
      "metadata": {
        "colab": {
          "base_uri": "https://localhost:8080/"
        },
        "id": "vcLTblYSUvTv",
        "outputId": "5edffcd9-1c17-41be-90b6-cd897c708005"
      },
      "source": [
        "import math\n",
        "from sklearn.metrics import mean_squared_error\n",
        "math.sqrt(mean_squared_error(ytrain,train_predict))"
      ],
      "execution_count": 79,
      "outputs": [
        {
          "output_type": "execute_result",
          "data": {
            "text/plain": [
              "2146.6885642532816"
            ]
          },
          "metadata": {
            "tags": []
          },
          "execution_count": 79
        }
      ]
    },
    {
      "cell_type": "code",
      "metadata": {
        "colab": {
          "base_uri": "https://localhost:8080/"
        },
        "id": "7374uTG9UyH9",
        "outputId": "e4c92681-7bd4-49fe-e718-bcc68ce2ae8d"
      },
      "source": [
        "math.sqrt(mean_squared_error(ytest,test_predict))"
      ],
      "execution_count": 80,
      "outputs": [
        {
          "output_type": "execute_result",
          "data": {
            "text/plain": [
              "3157.155424878917"
            ]
          },
          "metadata": {
            "tags": []
          },
          "execution_count": 80
        }
      ]
    },
    {
      "cell_type": "code",
      "metadata": {
        "id": "ntWdgp_IZOSp"
      },
      "source": [
        "df1 = df_sc\n",
        "import numpy\n",
        "import matplotlib.pyplot as plt\n"
      ],
      "execution_count": 81,
      "outputs": []
    },
    {
      "cell_type": "code",
      "metadata": {
        "colab": {
          "base_uri": "https://localhost:8080/",
          "height": 265
        },
        "id": "Q_eiSj-rVAv2",
        "outputId": "6303a6d7-d962-4cc7-e78b-b10fc1b0d53a"
      },
      "source": [
        "\n",
        "look_back=back_days\n",
        "trainPredictPlot = numpy.empty_like(df1)\n",
        "trainPredictPlot[:, :] = np.nan\n",
        "trainPredictPlot[look_back:len(train_predict)+look_back, :] = train_predict\n",
        "# shift test predictions for plotting\n",
        "testPredictPlot = numpy.empty_like(df1)\n",
        "testPredictPlot[:, :] = numpy.nan\n",
        "#testPredictPlot[len(train_predict)+(look_back*2)+1:len(df1)-1, :] = test_predict\n",
        "testPredictPlot[len(train_predict)+(look_back*2):len(df1), :] = test_predict\n",
        "# plot baseline and predictions\n",
        "plt.plot(scaler.inverse_transform(df1))\n",
        "plt.plot(trainPredictPlot)\n",
        "plt.plot(testPredictPlot)\n",
        "plt.show()"
      ],
      "execution_count": 82,
      "outputs": [
        {
          "output_type": "display_data",
          "data": {
            "image/png": "[encoded data removed]",
            "text/plain": [
              "<Figure size 432x288 with 1 Axes>"
            ]
          },
          "metadata": {
            "tags": [],
            "needs_background": "light"
          }
        }
      ]
    },
    {
      "cell_type": "code",
      "metadata": {
        "colab": {
          "base_uri": "https://localhost:8080/"
        },
        "id": "weYi1LrFZTwQ",
        "outputId": "faa542f9-3a30-4a3e-d621-3c2f11538f30"
      },
      "source": [
        "len(test_data)"
      ],
      "execution_count": 83,
      "outputs": [
        {
          "output_type": "execute_result",
          "data": {
            "text/plain": [
              "108"
            ]
          },
          "metadata": {
            "tags": []
          },
          "execution_count": 83
        }
      ]
    },
    {
      "cell_type": "code",
      "metadata": {
        "colab": {
          "base_uri": "https://localhost:8080/"
        },
        "id": "sZk66024Zc4W",
        "outputId": "c0d185c9-9d58-4c6a-b4d0-42d775165d1a"
      },
      "source": [
        "x_input=test_data[len(test_data)-back_days:].reshape(1,-1)\n",
        "x_input.shape"
      ],
      "execution_count": 84,
      "outputs": [
        {
          "output_type": "execute_result",
          "data": {
            "text/plain": [
              "(1, 30)"
            ]
          },
          "metadata": {
            "tags": []
          },
          "execution_count": 84
        }
      ]
    },
    {
      "cell_type": "code",
      "metadata": {
        "id": "_tx8Z6yyZlgz"
      },
      "source": [
        "temp_input=list(x_input)\n",
        "temp_input=temp_input[0].tolist()"
      ],
      "execution_count": 85,
      "outputs": []
    },
    {
      "cell_type": "code",
      "metadata": {
        "colab": {
          "base_uri": "https://localhost:8080/"
        },
        "id": "p1a14auMZwFn",
        "outputId": "cd39ca15-2fb8-4f50-dda3-099693b4e4f9"
      },
      "source": [
        "# demonstrate prediction for next 30 days\n",
        "from numpy import array\n",
        "\n",
        "lst_output=[]\n",
        "n_steps=back_days\n",
        "i=0\n",
        "while(i<30):\n",
        "    \n",
        "    if(len(temp_input)>back_days):\n",
        "        #print(temp_input)\n",
        "        x_input=np.array(temp_input[1:])\n",
        "        #print(\"{} day input {}\".format(i,x_input))\n",
        "        x_input=x_input.reshape(1,-1)\n",
        "        x_input = x_input.reshape((1, n_steps, 1))\n",
        "        #print(x_input)\n",
        "        yhat = model.predict(x_input, verbose=0)\n",
        "        #print(\"{} day output {}\".format(i,yhat))\n",
        "        temp_input.extend(yhat[0].tolist())\n",
        "        temp_input=temp_input[1:]\n",
        "        #print(temp_input)\n",
        "        lst_output.extend(yhat.tolist())\n",
        "        i=i+1\n",
        "    else:\n",
        "        x_input = x_input.reshape((1, n_steps,1))\n",
        "        yhat = model.predict(x_input, verbose=0)\n",
        "        #print(yhat[0])\n",
        "        temp_input.extend(yhat[0].tolist())\n",
        "        #print(len(temp_input))\n",
        "        lst_output.extend(yhat.tolist())\n",
        "        i=i+1\n",
        "    \n",
        "\n",
        "print(lst_output)"
      ],
      "execution_count": 86,
      "outputs": [
        {
          "output_type": "stream",
          "text": [
            "[[0.8472617864608765], [0.8537225127220154], [0.8644521832466125], [0.8790358901023865], [0.8962218165397644], [0.9148134589195251], [0.933784544467926], [0.9523208737373352], [0.9698036909103394], [0.985831618309021], [1.0001946687698364], [1.0128397941589355], [1.0238313674926758], [1.0333127975463867], [1.041471242904663], [1.0485093593597412], [1.0546239614486694], [1.059989094734192], [1.064754605293274], [1.0690414905548096], [1.0729424953460693], [1.076526165008545], [1.0798410177230835], [1.0829201936721802], [1.0857852697372437], [1.0884507894515991], [1.0909265279769897], [1.0932201147079468], [1.0953384637832642], [1.0972886085510254]]\n"
          ],
          "name": "stdout"
        }
      ]
    },
    {
      "cell_type": "code",
      "metadata": {
        "id": "WI0eYmdyaOHt"
      },
      "source": [
        "day_new=np.arange(1,back_days+1)\n",
        "day_pred=np.arange(back_days+1,(back_days+31))"
      ],
      "execution_count": 87,
      "outputs": []
    },
    {
      "cell_type": "code",
      "metadata": {
        "colab": {
          "base_uri": "https://localhost:8080/"
        },
        "id": "-z6OsfduaXBE",
        "outputId": "df071165-b506-4fa7-96ca-b38896364459"
      },
      "source": [
        "len(day_pred)"
      ],
      "execution_count": 88,
      "outputs": [
        {
          "output_type": "execute_result",
          "data": {
            "text/plain": [
              "30"
            ]
          },
          "metadata": {
            "tags": []
          },
          "execution_count": 88
        }
      ]
    },
    {
      "cell_type": "code",
      "metadata": {
        "colab": {
          "base_uri": "https://localhost:8080/",
          "height": 285
        },
        "id": "dQ5ioH_waZEL",
        "outputId": "ef50b933-6442-43f0-a159-a627170757f9"
      },
      "source": [
        "\n",
        "plt.plot(day_new,scaler.inverse_transform(df1[len(df1)-back_days:]))\n",
        "plt.plot(day_pred,scaler.inverse_transform(lst_output))"
      ],
      "execution_count": 89,
      "outputs": [
        {
          "output_type": "execute_result",
          "data": {
            "text/plain": [
              "[<matplotlib.lines.Line2D at 0x7f56b9e7df50>]"
            ]
          },
          "metadata": {
            "tags": []
          },
          "execution_count": 89
        },
        {
          "output_type": "display_data",
          "data": {
            "image/png": "[encoded data removed]",
            "text/plain": [
              "<Figure size 432x288 with 1 Axes>"
            ]
          },
          "metadata": {
            "tags": [],
            "needs_background": "light"
          }
        }
      ]
    },
    {
      "cell_type": "code",
      "metadata": {
        "colab": {
          "base_uri": "https://localhost:8080/",
          "height": 283
        },
        "id": "z9a5l1IZaf6E",
        "outputId": "66b127ff-bd59-4d48-ce31-f840d03c74fe"
      },
      "source": [
        "df3=df1.tolist()\n",
        "df3.extend(lst_output)\n",
        "plt.plot(df3[500:])"
      ],
      "execution_count": 90,
      "outputs": [
        {
          "output_type": "execute_result",
          "data": {
            "text/plain": [
              "[<matplotlib.lines.Line2D at 0x7f56b6d38790>]"
            ]
          },
          "metadata": {
            "tags": []
          },
          "execution_count": 90
        },
        {
          "output_type": "display_data",
          "data": {
            "image/png": "[encoded data removed]",
            "text/plain": [
              "<Figure size 432x288 with 1 Axes>"
            ]
          },
          "metadata": {
            "tags": [],
            "needs_background": "light"
          }
        }
      ]
    },
    {
      "cell_type": "code",
      "metadata": {
        "colab": {
          "base_uri": "https://localhost:8080/",
          "height": 283
        },
        "id": "MJKYI8pGalHZ",
        "outputId": "400926b0-ce9e-4089-c007-e9ed5fe42f47"
      },
      "source": [
        "df3=scaler.inverse_transform(df3).tolist()\n",
        "plt.plot(df3)"
      ],
      "execution_count": 91,
      "outputs": [
        {
          "output_type": "execute_result",
          "data": {
            "text/plain": [
              "[<matplotlib.lines.Line2D at 0x7f56b39b5b10>]"
            ]
          },
          "metadata": {
            "tags": []
          },
          "execution_count": 91
        },
        {
          "output_type": "display_data",
          "data": {
            "image/png": "[encoded data removed]",
            "text/plain": [
              "<Figure size 432x288 with 1 Axes>"
            ]
          },
          "metadata": {
            "tags": [],
            "needs_background": "light"
          }
        }
      ]
    },
    {
      "cell_type": "code",
      "metadata": {
        "id": "ZIYeMwV2asne"
      },
      "source": [
        ""
      ],
      "execution_count": 91,
      "outputs": []
    },
    {
      "cell_type": "code",
      "metadata": {
        "id": "CPMVkwJSapJE"
      },
      "source": [
        "\n"
      ],
      "execution_count": 91,
      "outputs": []
    }
  ]
}