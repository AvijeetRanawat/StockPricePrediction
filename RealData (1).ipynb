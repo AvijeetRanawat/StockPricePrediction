{
  "nbformat": 4,
  "nbformat_minor": 0,
  "metadata": {
    "kernelspec": {
      "display_name": "Python 3",
      "language": "python",
      "name": "python3"
    },
    "language_info": {
      "codemirror_mode": {
        "name": "ipython",
        "version": 3
      },
      "file_extension": ".py",
      "mimetype": "text/x-python",
      "name": "python",
      "nbconvert_exporter": "python",
      "pygments_lexer": "ipython3",
      "version": "3.7.4"
    },
    "colab": {
      "name": "RealData.ipynb",
      "provenance": []
    }
  },
  "cells": [
    {
      "cell_type": "markdown",
      "metadata": {
        "id": "VdwtAq0EOK3w"
      },
      "source": [
        "# Stock Market Prediction And Forecasting Using Stacked LSTM"
      ]
    },
    {
      "cell_type": "markdown",
      "metadata": {
        "id": "ZjuYlNIBOK34"
      },
      "source": [
        "## Get Data"
      ]
    },
    {
      "cell_type": "markdown",
      "metadata": {
        "id": "KQHiAOeUOK35"
      },
      "source": [
        "### one way"
      ]
    },
    {
      "cell_type": "code",
      "metadata": {
        "id": "836DGrKYOK36"
      },
      "source": [
        "\n",
        "import pandas as pd"
      ],
      "execution_count": 1,
      "outputs": []
    },
    {
      "cell_type": "code",
      "metadata": {
        "id": "zErRz6UNOK37"
      },
      "source": [
        "key=''\n",
        "stock = 'TCS.BSE'"
      ],
      "execution_count": 2,
      "outputs": []
    },
    {
      "cell_type": "code",
      "metadata": {
        "id": "xMXzsTnSOK38"
      },
      "source": [
        "url = 'https://www.alphavantage.co/query?function=TIME_SERIES_DAILY_ADJUSTED&symbol='+ stock +'&outputsize=compact&apikey='+key#+'&datatype=csv'"
      ],
      "execution_count": 3,
      "outputs": []
    },
    {
      "cell_type": "code",
      "metadata": {
        "scrolled": false,
        "id": "YX3BeacMOK38"
      },
      "source": [
        "import urllib.request\n",
        "\n",
        "weburl = urllib.request.urlopen(url)\n",
        "data = weburl.read()\n"
      ],
      "execution_count": 4,
      "outputs": []
    },
    {
      "cell_type": "code",
      "metadata": {
        "id": "2OMQaKFvOK39"
      },
      "source": [
        "from ast import literal_eval\n",
        "\n",
        "data = literal_eval(data.decode('utf-8'))"
      ],
      "execution_count": 5,
      "outputs": []
    },
    {
      "cell_type": "code",
      "metadata": {
        "id": "APSUGGp3OK3-"
      },
      "source": [
        "# import json\n",
        "\n",
        "# result = json.dumps(data, indent=4, sort_keys=True)"
      ],
      "execution_count": 6,
      "outputs": []
    },
    {
      "cell_type": "code",
      "metadata": {
        "colab": {
          "base_uri": "https://localhost:8080/",
          "height": 204
        },
        "id": "BUtFMqvDOK3-",
        "outputId": "3cc8b6bf-b5bc-49ab-c550-91b8f7aa8384"
      },
      "source": [
        "df = pd.DataFrame(data.get('Time Series (Daily)'))\n",
        "df = df.T\n",
        "df.head()"
      ],
      "execution_count": 7,
      "outputs": [
        {
          "output_type": "execute_result",
          "data": {
            "text/html": [
              "<div>\n",
              "<style scoped>\n",
              "    .dataframe tbody tr th:only-of-type {\n",
              "        vertical-align: middle;\n",
              "    }\n",
              "\n",
              "    .dataframe tbody tr th {\n",
              "        vertical-align: top;\n",
              "    }\n",
              "\n",
              "    .dataframe thead th {\n",
              "        text-align: right;\n",
              "    }\n",
              "</style>\n",
              "<table border=\"1\" class=\"dataframe\">\n",
              "  <thead>\n",
              "    <tr style=\"text-align: right;\">\n",
              "      <th></th>\n",
              "      <th>1. open</th>\n",
              "      <th>2. high</th>\n",
              "      <th>3. low</th>\n",
              "      <th>4. close</th>\n",
              "      <th>5. adjusted close</th>\n",
              "      <th>6. volume</th>\n",
              "      <th>7. dividend amount</th>\n",
              "      <th>8. split coefficient</th>\n",
              "    </tr>\n",
              "  </thead>\n",
              "  <tbody>\n",
              "    <tr>\n",
              "      <th>2021-05-21</th>\n",
              "      <td>3065.0</td>\n",
              "      <td>3087.8999</td>\n",
              "      <td>3055.3501</td>\n",
              "      <td>3080.3999</td>\n",
              "      <td>3080.3999</td>\n",
              "      <td>25700</td>\n",
              "      <td>0.0000</td>\n",
              "      <td>1.0</td>\n",
              "    </tr>\n",
              "    <tr>\n",
              "      <th>2021-05-20</th>\n",
              "      <td>3074.0</td>\n",
              "      <td>3087.55</td>\n",
              "      <td>3053.0</td>\n",
              "      <td>3060.0</td>\n",
              "      <td>3060.0</td>\n",
              "      <td>44081</td>\n",
              "      <td>0.0000</td>\n",
              "      <td>1.0</td>\n",
              "    </tr>\n",
              "    <tr>\n",
              "      <th>2021-05-19</th>\n",
              "      <td>3080.0</td>\n",
              "      <td>3118.0</td>\n",
              "      <td>3066.05</td>\n",
              "      <td>3081.95</td>\n",
              "      <td>3081.95</td>\n",
              "      <td>63943</td>\n",
              "      <td>0.0000</td>\n",
              "      <td>1.0</td>\n",
              "    </tr>\n",
              "    <tr>\n",
              "      <th>2021-05-18</th>\n",
              "      <td>3095.0</td>\n",
              "      <td>3123.0</td>\n",
              "      <td>3078.7</td>\n",
              "      <td>3089.3501</td>\n",
              "      <td>3089.3501</td>\n",
              "      <td>71234</td>\n",
              "      <td>0.0000</td>\n",
              "      <td>1.0</td>\n",
              "    </tr>\n",
              "    <tr>\n",
              "      <th>2021-05-17</th>\n",
              "      <td>3060.0</td>\n",
              "      <td>3077.0</td>\n",
              "      <td>3035.6499</td>\n",
              "      <td>3069.8</td>\n",
              "      <td>3069.8</td>\n",
              "      <td>101499</td>\n",
              "      <td>0.0000</td>\n",
              "      <td>1.0</td>\n",
              "    </tr>\n",
              "  </tbody>\n",
              "</table>\n",
              "</div>"
            ],
            "text/plain": [
              "           1. open    2. high  ... 7. dividend amount 8. split coefficient\n",
              "2021-05-21  3065.0  3087.8999  ...             0.0000                  1.0\n",
              "2021-05-20  3074.0    3087.55  ...             0.0000                  1.0\n",
              "2021-05-19  3080.0     3118.0  ...             0.0000                  1.0\n",
              "2021-05-18  3095.0     3123.0  ...             0.0000                  1.0\n",
              "2021-05-17  3060.0     3077.0  ...             0.0000                  1.0\n",
              "\n",
              "[5 rows x 8 columns]"
            ]
          },
          "metadata": {
            "tags": []
          },
          "execution_count": 7
        }
      ]
    },
    {
      "cell_type": "code",
      "metadata": {
        "colab": {
          "base_uri": "https://localhost:8080/"
        },
        "id": "H_4BluOOOK4A",
        "outputId": "32dc0b30-7f74-46ea-99ba-4c93f98a6c5a"
      },
      "source": [
        "df.columns"
      ],
      "execution_count": 8,
      "outputs": [
        {
          "output_type": "execute_result",
          "data": {
            "text/plain": [
              "Index(['1. open', '2. high', '3. low', '4. close', '5. adjusted close',\n",
              "       '6. volume', '7. dividend amount', '8. split coefficient'],\n",
              "      dtype='object')"
            ]
          },
          "metadata": {
            "tags": []
          },
          "execution_count": 8
        }
      ]
    },
    {
      "cell_type": "code",
      "metadata": {
        "colab": {
          "base_uri": "https://localhost:8080/",
          "height": 204
        },
        "id": "HFh2nIJ5OK4B",
        "outputId": "43ba1f2f-eced-4b6f-90ba-974f35290025"
      },
      "source": [
        "df = df.rename(columns={'1. open':'open','2. high':'high','3. low':'low','4. close':'close','6. volume':'volume'})\n",
        "df = df [['open','high','low','close','volume']]\n",
        "df.head()"
      ],
      "execution_count": 9,
      "outputs": [
        {
          "output_type": "execute_result",
          "data": {
            "text/html": [
              "<div>\n",
              "<style scoped>\n",
              "    .dataframe tbody tr th:only-of-type {\n",
              "        vertical-align: middle;\n",
              "    }\n",
              "\n",
              "    .dataframe tbody tr th {\n",
              "        vertical-align: top;\n",
              "    }\n",
              "\n",
              "    .dataframe thead th {\n",
              "        text-align: right;\n",
              "    }\n",
              "</style>\n",
              "<table border=\"1\" class=\"dataframe\">\n",
              "  <thead>\n",
              "    <tr style=\"text-align: right;\">\n",
              "      <th></th>\n",
              "      <th>open</th>\n",
              "      <th>high</th>\n",
              "      <th>low</th>\n",
              "      <th>close</th>\n",
              "      <th>volume</th>\n",
              "    </tr>\n",
              "  </thead>\n",
              "  <tbody>\n",
              "    <tr>\n",
              "      <th>2021-05-21</th>\n",
              "      <td>3065.0</td>\n",
              "      <td>3087.8999</td>\n",
              "      <td>3055.3501</td>\n",
              "      <td>3080.3999</td>\n",
              "      <td>25700</td>\n",
              "    </tr>\n",
              "    <tr>\n",
              "      <th>2021-05-20</th>\n",
              "      <td>3074.0</td>\n",
              "      <td>3087.55</td>\n",
              "      <td>3053.0</td>\n",
              "      <td>3060.0</td>\n",
              "      <td>44081</td>\n",
              "    </tr>\n",
              "    <tr>\n",
              "      <th>2021-05-19</th>\n",
              "      <td>3080.0</td>\n",
              "      <td>3118.0</td>\n",
              "      <td>3066.05</td>\n",
              "      <td>3081.95</td>\n",
              "      <td>63943</td>\n",
              "    </tr>\n",
              "    <tr>\n",
              "      <th>2021-05-18</th>\n",
              "      <td>3095.0</td>\n",
              "      <td>3123.0</td>\n",
              "      <td>3078.7</td>\n",
              "      <td>3089.3501</td>\n",
              "      <td>71234</td>\n",
              "    </tr>\n",
              "    <tr>\n",
              "      <th>2021-05-17</th>\n",
              "      <td>3060.0</td>\n",
              "      <td>3077.0</td>\n",
              "      <td>3035.6499</td>\n",
              "      <td>3069.8</td>\n",
              "      <td>101499</td>\n",
              "    </tr>\n",
              "  </tbody>\n",
              "</table>\n",
              "</div>"
            ],
            "text/plain": [
              "              open       high        low      close  volume\n",
              "2021-05-21  3065.0  3087.8999  3055.3501  3080.3999   25700\n",
              "2021-05-20  3074.0    3087.55     3053.0     3060.0   44081\n",
              "2021-05-19  3080.0     3118.0    3066.05    3081.95   63943\n",
              "2021-05-18  3095.0     3123.0     3078.7  3089.3501   71234\n",
              "2021-05-17  3060.0     3077.0  3035.6499     3069.8  101499"
            ]
          },
          "metadata": {
            "tags": []
          },
          "execution_count": 9
        }
      ]
    },
    {
      "cell_type": "markdown",
      "metadata": {
        "id": "37vnE0UtftDM"
      },
      "source": [
        ""
      ]
    },
    {
      "cell_type": "markdown",
      "metadata": {
        "id": "DT1hKazIOK4C"
      },
      "source": [
        "### second way"
      ]
    },
    {
      "cell_type": "code",
      "metadata": {
        "id": "nKDLOXSWOK4D"
      },
      "source": [
        "# import os\n",
        "\n",
        "# # os.environ['StockAPI1'] = ''\n",
        "# key = os.getenv('StockAPI1')\n"
      ],
      "execution_count": 10,
      "outputs": []
    },
    {
      "cell_type": "code",
      "metadata": {
        "id": "TV26FNH0OK4D"
      },
      "source": [
        "stock = 'TCS.BSE'\n",
        "\n",
        "from datetime import datetime\n",
        "sdate = datetime(2018,6,1)\n",
        "edate = datetime(2021,4,30)"
      ],
      "execution_count": 11,
      "outputs": []
    },
    {
      "cell_type": "code",
      "metadata": {
        "id": "1mJoEGa7OK4E"
      },
      "source": [
        "\n",
        "import pandas_datareader.data as web\n",
        "df = web.DataReader(stock, 'av-daily', start = sdate, end = edate, api_key = key)"
      ],
      "execution_count": 12,
      "outputs": []
    },
    {
      "cell_type": "markdown",
      "metadata": {
        "id": "qZ0FB0DdOK4E"
      },
      "source": [
        "## EDA"
      ]
    },
    {
      "cell_type": "code",
      "metadata": {
        "colab": {
          "base_uri": "https://localhost:8080/",
          "height": 282
        },
        "id": "56jGKOVhOK4F",
        "outputId": "b4c9b100-8f40-4f78-9692-6b9ddb9172b7"
      },
      "source": [
        "df['close'].plot()"
      ],
      "execution_count": 13,
      "outputs": [
        {
          "output_type": "execute_result",
          "data": {
            "text/plain": [
              "<matplotlib.axes._subplots.AxesSubplot at 0x7f5700336e50>"
            ]
          },
          "metadata": {
            "tags": []
          },
          "execution_count": 13
        },
        {
          "output_type": "display_data",
          "data": {
            "image/png": "[encoded data removed]",
            "text/plain": [
              "<Figure size 432x288 with 1 Axes>"
            ]
          },
          "metadata": {
            "tags": [],
            "needs_background": "light"
          }
        }
      ]
    },
    {
      "cell_type": "code",
      "metadata": {
        "id": "DM1hUHEaOK4F"
      },
      "source": [
        "import numpy as np\n",
        "from sklearn.preprocessing import MinMaxScaler\n",
        "\n",
        "scaler=MinMaxScaler()\n",
        "df_sc = scaler.fit_transform(np.array(df['close']).reshape(-1,1))\n"
      ],
      "execution_count": 14,
      "outputs": []
    },
    {
      "cell_type": "code",
      "metadata": {
        "id": "v00hbfxJOK4G"
      },
      "source": [
        "train_size = int(len(df_sc)*0.85)\n",
        "test_size = len(df_sc) - train_size\n",
        "\n",
        "train_data = df_sc[:train_size,:] \n",
        "test_data = df_sc[train_size:,:]"
      ],
      "execution_count": 15,
      "outputs": []
    },
    {
      "cell_type": "code",
      "metadata": {
        "colab": {
          "base_uri": "https://localhost:8080/"
        },
        "id": "LxFjDndBQRCA",
        "outputId": "02bb4730-35ce-41dd-9201-00a148174e70"
      },
      "source": [
        "train_data.shape"
      ],
      "execution_count": 16,
      "outputs": [
        {
          "output_type": "execute_result",
          "data": {
            "text/plain": [
              "(608, 1)"
            ]
          },
          "metadata": {
            "tags": []
          },
          "execution_count": 16
        }
      ]
    },
    {
      "cell_type": "code",
      "metadata": {
        "colab": {
          "base_uri": "https://localhost:8080/"
        },
        "id": "ZFL24I0LOK4G",
        "outputId": "e8a8f548-2787-4027-c245-3d2b621b07d6"
      },
      "source": [
        "k = np.arange(1,21)\n",
        "k"
      ],
      "execution_count": 17,
      "outputs": [
        {
          "output_type": "execute_result",
          "data": {
            "text/plain": [
              "array([ 1,  2,  3,  4,  5,  6,  7,  8,  9, 10, 11, 12, 13, 14, 15, 16, 17,\n",
              "       18, 19, 20])"
            ]
          },
          "metadata": {
            "tags": []
          },
          "execution_count": 17
        }
      ]
    },
    {
      "cell_type": "code",
      "metadata": {
        "id": "_vLF2LVCOK4H"
      },
      "source": [
        "def create_dataset(data,step=1):\n",
        "    a=[]\n",
        "    b=[]\n",
        "    for i in range(len(data)-step):\n",
        "        a.append(data[i:i+step])\n",
        "        b.append(data[i+step])\n",
        "    return np.array(a),np.array(b)"
      ],
      "execution_count": 18,
      "outputs": []
    },
    {
      "cell_type": "code",
      "metadata": {
        "id": "MqQr6z3qa9TS"
      },
      "source": [
        "# how many previous days to consider\n",
        "back_days = 30"
      ],
      "execution_count": 19,
      "outputs": []
    },
    {
      "cell_type": "code",
      "metadata": {
        "id": "pQuEUBLzOK4I"
      },
      "source": [
        "xtrain,ytrain = create_dataset(train_data,back_days)"
      ],
      "execution_count": 20,
      "outputs": []
    },
    {
      "cell_type": "code",
      "metadata": {
        "id": "HWaiVXztOK4I"
      },
      "source": [
        "xtest,ytest = create_dataset(test_data,back_days)"
      ],
      "execution_count": 21,
      "outputs": []
    },
    {
      "cell_type": "code",
      "metadata": {
        "colab": {
          "base_uri": "https://localhost:8080/"
        },
        "id": "pQz7capJOK4I",
        "outputId": "e6e14db1-12b3-47d6-cc85-85bced4881b9"
      },
      "source": [
        "xtrain.shape"
      ],
      "execution_count": 22,
      "outputs": [
        {
          "output_type": "execute_result",
          "data": {
            "text/plain": [
              "(578, 30, 1)"
            ]
          },
          "metadata": {
            "tags": []
          },
          "execution_count": 22
        }
      ]
    },
    {
      "cell_type": "code",
      "metadata": {
        "colab": {
          "base_uri": "https://localhost:8080/"
        },
        "id": "96v3pn9ePt6a",
        "outputId": "8f8fe538-1aa7-44ec-f8a0-48c8d33cd424"
      },
      "source": [
        "ytrain.shape"
      ],
      "execution_count": 23,
      "outputs": [
        {
          "output_type": "execute_result",
          "data": {
            "text/plain": [
              "(578, 1)"
            ]
          },
          "metadata": {
            "tags": []
          },
          "execution_count": 23
        }
      ]
    },
    {
      "cell_type": "code",
      "metadata": {
        "colab": {
          "base_uri": "https://localhost:8080/"
        },
        "id": "Fg1UUuxvRFlm",
        "outputId": "f4a14fa2-7dee-432c-9d50-2fb8c508bf7f"
      },
      "source": [
        "xtest.shape"
      ],
      "execution_count": 24,
      "outputs": [
        {
          "output_type": "execute_result",
          "data": {
            "text/plain": [
              "(78, 30, 1)"
            ]
          },
          "metadata": {
            "tags": []
          },
          "execution_count": 24
        }
      ]
    },
    {
      "cell_type": "code",
      "metadata": {
        "id": "FExU-DpRSBow"
      },
      "source": [
        "from tensorflow.keras.models import Sequential\n",
        "from tensorflow.keras.layers import Dense, LSTM\n"
      ],
      "execution_count": 25,
      "outputs": []
    },
    {
      "cell_type": "code",
      "metadata": {
        "id": "5BeFYVBnSROT"
      },
      "source": [
        "model = Sequential()\n",
        "model.add(LSTM(50,return_sequences=True, input_shape=(back_days,1)))\n",
        "model.add(LSTM(50,return_sequences=True))\n",
        "model.add(LSTM(50))\n",
        "model.add(Dense(1))\n",
        "model.compile(loss='mean_squared_error',optimizer='adam')"
      ],
      "execution_count": 26,
      "outputs": []
    },
    {
      "cell_type": "code",
      "metadata": {
        "colab": {
          "base_uri": "https://localhost:8080/"
        },
        "id": "0Q-bynW0TBjQ",
        "outputId": "fb17cdb4-4763-45ab-955c-562f4992e81b"
      },
      "source": [
        "model.summary()"
      ],
      "execution_count": 27,
      "outputs": [
        {
          "output_type": "stream",
          "text": [
            "Model: \"sequential\"\n",
            "_________________________________________________________________\n",
            "Layer (type)                 Output Shape              Param #   \n",
            "=================================================================\n",
            "lstm (LSTM)                  (None, 30, 50)            10400     \n",
            "_________________________________________________________________\n",
            "lstm_1 (LSTM)                (None, 30, 50)            20200     \n",
            "_________________________________________________________________\n",
            "lstm_2 (LSTM)                (None, 50)                20200     \n",
            "_________________________________________________________________\n",
            "dense (Dense)                (None, 1)                 51        \n",
            "=================================================================\n",
            "Total params: 50,851\n",
            "Trainable params: 50,851\n",
            "Non-trainable params: 0\n",
            "_________________________________________________________________\n"
          ],
          "name": "stdout"
        }
      ]
    },
    {
      "cell_type": "code",
      "metadata": {
        "colab": {
          "base_uri": "https://localhost:8080/"
        },
        "id": "TyS72QVOTbvd",
        "outputId": "f9fd949f-1200-46f8-b802-25afa4ea0509"
      },
      "source": [
        "model.fit(xtrain,ytrain,validation_data=(xtest,ytest),epochs=500,batch_size=32,verbose=1)"
      ],
      "execution_count": 28,
      "outputs": [
        {
          "output_type": "stream",
          "text": [
            "Epoch 1/500\n",
            "19/19 [==============================] - 5s 93ms/step - loss: 0.0387 - val_loss: 0.1102\n",
            "Epoch 2/500\n",
            "19/19 [==============================] - 1s 31ms/step - loss: 0.0051 - val_loss: 0.0324\n",
            "Epoch 3/500\n",
            "19/19 [==============================] - 1s 32ms/step - loss: 0.0040 - val_loss: 0.0066\n",
            "Epoch 4/500\n",
            "19/19 [==============================] - 1s 32ms/step - loss: 0.0036 - val_loss: 0.0083\n",
            "Epoch 5/500\n",
            "19/19 [==============================] - 1s 31ms/step - loss: 0.0029 - val_loss: 0.0079\n",
            "Epoch 6/500\n",
            "19/19 [==============================] - 1s 31ms/step - loss: 0.0028 - val_loss: 0.0066\n",
            "Epoch 7/500\n",
            "19/19 [==============================] - 1s 32ms/step - loss: 0.0025 - val_loss: 0.0071\n",
            "Epoch 8/500\n",
            "19/19 [==============================] - 1s 31ms/step - loss: 0.0025 - val_loss: 0.0040\n",
            "Epoch 9/500\n",
            "19/19 [==============================] - 1s 31ms/step - loss: 0.0021 - val_loss: 0.0043\n",
            "Epoch 10/500\n",
            "19/19 [==============================] - 1s 30ms/step - loss: 0.0026 - val_loss: 0.0057\n",
            "Epoch 11/500\n",
            "19/19 [==============================] - 1s 32ms/step - loss: 0.0024 - val_loss: 0.0051\n",
            "Epoch 12/500\n",
            "19/19 [==============================] - 1s 32ms/step - loss: 0.0036 - val_loss: 0.0048\n",
            "Epoch 13/500\n",
            "19/19 [==============================] - 1s 31ms/step - loss: 0.0020 - val_loss: 0.0033\n",
            "Epoch 14/500\n",
            "19/19 [==============================] - 1s 31ms/step - loss: 0.0018 - val_loss: 0.0029\n",
            "Epoch 15/500\n",
            "19/19 [==============================] - 1s 31ms/step - loss: 0.0021 - val_loss: 0.0033\n",
            "Epoch 16/500\n",
            "19/19 [==============================] - 1s 29ms/step - loss: 0.0019 - val_loss: 0.0023\n",
            "Epoch 17/500\n",
            "19/19 [==============================] - 1s 30ms/step - loss: 0.0016 - val_loss: 0.0026\n",
            "Epoch 18/500\n",
            "19/19 [==============================] - 1s 31ms/step - loss: 0.0016 - val_loss: 0.0038\n",
            "Epoch 19/500\n",
            "19/19 [==============================] - 1s 32ms/step - loss: 0.0016 - val_loss: 0.0037\n",
            "Epoch 20/500\n",
            "19/19 [==============================] - 1s 31ms/step - loss: 0.0016 - val_loss: 0.0019\n",
            "Epoch 21/500\n",
            "19/19 [==============================] - 1s 32ms/step - loss: 0.0016 - val_loss: 0.0056\n",
            "Epoch 22/500\n",
            "19/19 [==============================] - 1s 31ms/step - loss: 0.0017 - val_loss: 0.0017\n",
            "Epoch 23/500\n",
            "19/19 [==============================] - 1s 31ms/step - loss: 0.0015 - val_loss: 0.0017\n",
            "Epoch 24/500\n",
            "19/19 [==============================] - 1s 31ms/step - loss: 0.0012 - val_loss: 0.0016\n",
            "Epoch 25/500\n",
            "19/19 [==============================] - 1s 31ms/step - loss: 0.0016 - val_loss: 0.0039\n",
            "Epoch 26/500\n",
            "19/19 [==============================] - 1s 32ms/step - loss: 0.0012 - val_loss: 0.0016\n",
            "Epoch 27/500\n",
            "19/19 [==============================] - 1s 31ms/step - loss: 0.0013 - val_loss: 0.0051\n",
            "Epoch 28/500\n",
            "19/19 [==============================] - 1s 31ms/step - loss: 0.0014 - val_loss: 0.0017\n",
            "Epoch 29/500\n",
            "19/19 [==============================] - 1s 32ms/step - loss: 0.0011 - val_loss: 0.0054\n",
            "Epoch 30/500\n",
            "19/19 [==============================] - 1s 31ms/step - loss: 0.0012 - val_loss: 0.0025\n",
            "Epoch 31/500\n",
            "19/19 [==============================] - 1s 31ms/step - loss: 0.0013 - val_loss: 0.0095\n",
            "Epoch 32/500\n",
            "19/19 [==============================] - 1s 30ms/step - loss: 0.0017 - val_loss: 0.0071\n",
            "Epoch 33/500\n",
            "19/19 [==============================] - 1s 31ms/step - loss: 0.0012 - val_loss: 0.0013\n",
            "Epoch 34/500\n",
            "19/19 [==============================] - 1s 30ms/step - loss: 0.0010 - val_loss: 0.0013\n",
            "Epoch 35/500\n",
            "19/19 [==============================] - 1s 30ms/step - loss: 0.0011 - val_loss: 0.0027\n",
            "Epoch 36/500\n",
            "19/19 [==============================] - 1s 31ms/step - loss: 0.0011 - val_loss: 0.0063\n",
            "Epoch 37/500\n",
            "19/19 [==============================] - 1s 31ms/step - loss: 0.0010 - val_loss: 0.0015\n",
            "Epoch 38/500\n",
            "19/19 [==============================] - 1s 32ms/step - loss: 8.6195e-04 - val_loss: 0.0013\n",
            "Epoch 39/500\n",
            "19/19 [==============================] - 1s 31ms/step - loss: 8.6217e-04 - val_loss: 0.0039\n",
            "Epoch 40/500\n",
            "19/19 [==============================] - 1s 32ms/step - loss: 0.0010 - val_loss: 0.0015\n",
            "Epoch 41/500\n",
            "19/19 [==============================] - 1s 30ms/step - loss: 8.9598e-04 - val_loss: 0.0014\n",
            "Epoch 42/500\n",
            "19/19 [==============================] - 1s 32ms/step - loss: 9.3982e-04 - val_loss: 0.0016\n",
            "Epoch 43/500\n",
            "19/19 [==============================] - 1s 32ms/step - loss: 9.1084e-04 - val_loss: 0.0016\n",
            "Epoch 44/500\n",
            "19/19 [==============================] - 1s 31ms/step - loss: 8.7447e-04 - val_loss: 0.0017\n",
            "Epoch 45/500\n",
            "19/19 [==============================] - 1s 32ms/step - loss: 8.0829e-04 - val_loss: 0.0017\n",
            "Epoch 46/500\n",
            "19/19 [==============================] - 1s 31ms/step - loss: 7.9113e-04 - val_loss: 0.0016\n",
            "Epoch 47/500\n",
            "19/19 [==============================] - 1s 31ms/step - loss: 6.9907e-04 - val_loss: 0.0014\n",
            "Epoch 48/500\n",
            "19/19 [==============================] - 1s 32ms/step - loss: 8.2627e-04 - val_loss: 0.0018\n",
            "Epoch 49/500\n",
            "19/19 [==============================] - 1s 30ms/step - loss: 9.0410e-04 - val_loss: 0.0014\n",
            "Epoch 50/500\n",
            "19/19 [==============================] - 1s 32ms/step - loss: 9.0398e-04 - val_loss: 0.0086\n",
            "Epoch 51/500\n",
            "19/19 [==============================] - 1s 31ms/step - loss: 0.0013 - val_loss: 0.0014\n",
            "Epoch 52/500\n",
            "19/19 [==============================] - 1s 32ms/step - loss: 8.8332e-04 - val_loss: 0.0022\n",
            "Epoch 53/500\n",
            "19/19 [==============================] - 1s 31ms/step - loss: 9.3654e-04 - val_loss: 0.0026\n",
            "Epoch 54/500\n",
            "19/19 [==============================] - 1s 32ms/step - loss: 8.3955e-04 - val_loss: 0.0013\n",
            "Epoch 55/500\n",
            "19/19 [==============================] - 1s 32ms/step - loss: 6.9481e-04 - val_loss: 0.0013\n",
            "Epoch 56/500\n",
            "19/19 [==============================] - 1s 32ms/step - loss: 7.8135e-04 - val_loss: 0.0027\n",
            "Epoch 57/500\n",
            "19/19 [==============================] - 1s 31ms/step - loss: 7.8306e-04 - val_loss: 0.0012\n",
            "Epoch 58/500\n",
            "19/19 [==============================] - 1s 32ms/step - loss: 8.3957e-04 - val_loss: 0.0034\n",
            "Epoch 59/500\n",
            "19/19 [==============================] - 1s 33ms/step - loss: 9.1365e-04 - val_loss: 0.0024\n",
            "Epoch 60/500\n",
            "19/19 [==============================] - 1s 32ms/step - loss: 7.2721e-04 - val_loss: 0.0031\n",
            "Epoch 61/500\n",
            "19/19 [==============================] - 1s 31ms/step - loss: 6.0444e-04 - val_loss: 0.0038\n",
            "Epoch 62/500\n",
            "19/19 [==============================] - 1s 31ms/step - loss: 6.8751e-04 - val_loss: 0.0013\n",
            "Epoch 63/500\n",
            "19/19 [==============================] - 1s 32ms/step - loss: 6.6146e-04 - val_loss: 0.0015\n",
            "Epoch 64/500\n",
            "19/19 [==============================] - 1s 31ms/step - loss: 6.7377e-04 - val_loss: 0.0011\n",
            "Epoch 65/500\n",
            "19/19 [==============================] - 1s 32ms/step - loss: 7.2890e-04 - val_loss: 0.0014\n",
            "Epoch 66/500\n",
            "19/19 [==============================] - 1s 32ms/step - loss: 6.4563e-04 - val_loss: 0.0022\n",
            "Epoch 67/500\n",
            "19/19 [==============================] - 1s 33ms/step - loss: 7.8692e-04 - val_loss: 0.0027\n",
            "Epoch 68/500\n",
            "19/19 [==============================] - 1s 33ms/step - loss: 0.0010 - val_loss: 0.0012\n",
            "Epoch 69/500\n",
            "19/19 [==============================] - 1s 32ms/step - loss: 6.5177e-04 - val_loss: 9.9116e-04\n",
            "Epoch 70/500\n",
            "19/19 [==============================] - 1s 30ms/step - loss: 7.5043e-04 - val_loss: 0.0063\n",
            "Epoch 71/500\n",
            "19/19 [==============================] - 1s 31ms/step - loss: 7.8832e-04 - val_loss: 0.0033\n",
            "Epoch 72/500\n",
            "19/19 [==============================] - 1s 32ms/step - loss: 6.4980e-04 - val_loss: 0.0013\n",
            "Epoch 73/500\n",
            "19/19 [==============================] - 1s 32ms/step - loss: 5.5482e-04 - val_loss: 9.3310e-04\n",
            "Epoch 74/500\n",
            "19/19 [==============================] - 1s 32ms/step - loss: 6.9022e-04 - val_loss: 0.0014\n",
            "Epoch 75/500\n",
            "19/19 [==============================] - 1s 32ms/step - loss: 5.2074e-04 - val_loss: 0.0028\n",
            "Epoch 76/500\n",
            "19/19 [==============================] - 1s 31ms/step - loss: 5.7087e-04 - val_loss: 0.0016\n",
            "Epoch 77/500\n",
            "19/19 [==============================] - 1s 32ms/step - loss: 5.3397e-04 - val_loss: 0.0012\n",
            "Epoch 78/500\n",
            "19/19 [==============================] - 1s 32ms/step - loss: 5.5787e-04 - val_loss: 0.0017\n",
            "Epoch 79/500\n",
            "19/19 [==============================] - 1s 32ms/step - loss: 7.0704e-04 - val_loss: 0.0023\n",
            "Epoch 80/500\n",
            "19/19 [==============================] - 1s 31ms/step - loss: 5.6996e-04 - val_loss: 0.0010\n",
            "Epoch 81/500\n",
            "19/19 [==============================] - 1s 33ms/step - loss: 6.6486e-04 - val_loss: 0.0012\n",
            "Epoch 82/500\n",
            "19/19 [==============================] - 1s 31ms/step - loss: 6.0674e-04 - val_loss: 0.0011\n",
            "Epoch 83/500\n",
            "19/19 [==============================] - 1s 32ms/step - loss: 6.6619e-04 - val_loss: 0.0012\n",
            "Epoch 84/500\n",
            "19/19 [==============================] - 1s 30ms/step - loss: 5.9036e-04 - val_loss: 0.0012\n",
            "Epoch 85/500\n",
            "19/19 [==============================] - 1s 31ms/step - loss: 5.1871e-04 - val_loss: 0.0022\n",
            "Epoch 86/500\n",
            "19/19 [==============================] - 1s 32ms/step - loss: 5.5553e-04 - val_loss: 0.0028\n",
            "Epoch 87/500\n",
            "19/19 [==============================] - 1s 31ms/step - loss: 5.2654e-04 - val_loss: 0.0013\n",
            "Epoch 88/500\n",
            "19/19 [==============================] - 1s 32ms/step - loss: 5.2243e-04 - val_loss: 0.0012\n",
            "Epoch 89/500\n",
            "19/19 [==============================] - 1s 31ms/step - loss: 5.9785e-04 - val_loss: 0.0013\n",
            "Epoch 90/500\n",
            "19/19 [==============================] - 1s 32ms/step - loss: 6.5722e-04 - val_loss: 0.0012\n",
            "Epoch 91/500\n",
            "19/19 [==============================] - 1s 31ms/step - loss: 7.1818e-04 - val_loss: 0.0014\n",
            "Epoch 92/500\n",
            "19/19 [==============================] - 1s 32ms/step - loss: 6.7321e-04 - val_loss: 0.0012\n",
            "Epoch 93/500\n",
            "19/19 [==============================] - 1s 31ms/step - loss: 5.1152e-04 - val_loss: 0.0010\n",
            "Epoch 94/500\n",
            "19/19 [==============================] - 1s 31ms/step - loss: 5.7338e-04 - val_loss: 0.0016\n",
            "Epoch 95/500\n",
            "19/19 [==============================] - 1s 32ms/step - loss: 5.4319e-04 - val_loss: 0.0024\n",
            "Epoch 96/500\n",
            "19/19 [==============================] - 1s 32ms/step - loss: 6.0503e-04 - val_loss: 0.0020\n",
            "Epoch 97/500\n",
            "19/19 [==============================] - 1s 32ms/step - loss: 4.5211e-04 - val_loss: 0.0013\n",
            "Epoch 98/500\n",
            "19/19 [==============================] - 1s 38ms/step - loss: 5.0642e-04 - val_loss: 0.0019\n",
            "Epoch 99/500\n",
            "19/19 [==============================] - 1s 31ms/step - loss: 6.0044e-04 - val_loss: 0.0027\n",
            "Epoch 100/500\n",
            "19/19 [==============================] - 1s 32ms/step - loss: 6.3656e-04 - val_loss: 0.0038\n",
            "Epoch 101/500\n",
            "19/19 [==============================] - 1s 32ms/step - loss: 5.4895e-04 - val_loss: 9.9650e-04\n",
            "Epoch 102/500\n",
            "19/19 [==============================] - 1s 32ms/step - loss: 5.7316e-04 - val_loss: 0.0015\n",
            "Epoch 103/500\n",
            "19/19 [==============================] - 1s 32ms/step - loss: 5.2026e-04 - val_loss: 0.0013\n",
            "Epoch 104/500\n",
            "19/19 [==============================] - 1s 31ms/step - loss: 5.7377e-04 - val_loss: 0.0010\n",
            "Epoch 105/500\n",
            "19/19 [==============================] - 1s 31ms/step - loss: 5.7577e-04 - val_loss: 0.0019\n",
            "Epoch 106/500\n",
            "19/19 [==============================] - 1s 31ms/step - loss: 7.1898e-04 - val_loss: 9.7534e-04\n",
            "Epoch 107/500\n",
            "19/19 [==============================] - 1s 32ms/step - loss: 5.9276e-04 - val_loss: 0.0023\n",
            "Epoch 108/500\n",
            "19/19 [==============================] - 1s 32ms/step - loss: 5.7741e-04 - val_loss: 0.0028\n",
            "Epoch 109/500\n",
            "19/19 [==============================] - 1s 32ms/step - loss: 5.8221e-04 - val_loss: 9.5603e-04\n",
            "Epoch 110/500\n",
            "19/19 [==============================] - 1s 32ms/step - loss: 5.1216e-04 - val_loss: 0.0032\n",
            "Epoch 111/500\n",
            "19/19 [==============================] - 1s 32ms/step - loss: 5.7732e-04 - val_loss: 0.0011\n",
            "Epoch 112/500\n",
            "19/19 [==============================] - 1s 32ms/step - loss: 6.6255e-04 - val_loss: 0.0049\n",
            "Epoch 113/500\n",
            "19/19 [==============================] - 1s 32ms/step - loss: 6.8971e-04 - val_loss: 0.0026\n",
            "Epoch 114/500\n",
            "19/19 [==============================] - 1s 32ms/step - loss: 6.4764e-04 - val_loss: 0.0026\n",
            "Epoch 115/500\n",
            "19/19 [==============================] - 1s 31ms/step - loss: 5.0584e-04 - val_loss: 0.0060\n",
            "Epoch 116/500\n",
            "19/19 [==============================] - 1s 32ms/step - loss: 6.9722e-04 - val_loss: 9.3175e-04\n",
            "Epoch 117/500\n",
            "19/19 [==============================] - 1s 32ms/step - loss: 5.6088e-04 - val_loss: 9.5952e-04\n",
            "Epoch 118/500\n",
            "19/19 [==============================] - 1s 32ms/step - loss: 5.4960e-04 - val_loss: 9.7889e-04\n",
            "Epoch 119/500\n",
            "19/19 [==============================] - 1s 31ms/step - loss: 5.1671e-04 - val_loss: 0.0026\n",
            "Epoch 120/500\n",
            "19/19 [==============================] - 1s 33ms/step - loss: 6.3259e-04 - val_loss: 0.0044\n",
            "Epoch 121/500\n",
            "19/19 [==============================] - 1s 32ms/step - loss: 6.2011e-04 - val_loss: 9.2922e-04\n",
            "Epoch 122/500\n",
            "19/19 [==============================] - 1s 32ms/step - loss: 4.9549e-04 - val_loss: 0.0036\n",
            "Epoch 123/500\n",
            "19/19 [==============================] - 1s 31ms/step - loss: 6.1984e-04 - val_loss: 0.0011\n",
            "Epoch 124/500\n",
            "19/19 [==============================] - 1s 32ms/step - loss: 5.5404e-04 - val_loss: 0.0010\n",
            "Epoch 125/500\n",
            "19/19 [==============================] - 1s 31ms/step - loss: 5.3680e-04 - val_loss: 0.0014\n",
            "Epoch 126/500\n",
            "19/19 [==============================] - 1s 31ms/step - loss: 5.0619e-04 - val_loss: 0.0012\n",
            "Epoch 127/500\n",
            "19/19 [==============================] - 1s 32ms/step - loss: 4.9372e-04 - val_loss: 9.2672e-04\n",
            "Epoch 128/500\n",
            "19/19 [==============================] - 1s 32ms/step - loss: 6.0178e-04 - val_loss: 0.0010\n",
            "Epoch 129/500\n",
            "19/19 [==============================] - 1s 32ms/step - loss: 4.5347e-04 - val_loss: 8.4858e-04\n",
            "Epoch 130/500\n",
            "19/19 [==============================] - 1s 32ms/step - loss: 4.8007e-04 - val_loss: 8.9051e-04\n",
            "Epoch 131/500\n",
            "19/19 [==============================] - 1s 31ms/step - loss: 4.9330e-04 - val_loss: 0.0011\n",
            "Epoch 132/500\n",
            "19/19 [==============================] - 1s 32ms/step - loss: 5.0613e-04 - val_loss: 0.0015\n",
            "Epoch 133/500\n",
            "19/19 [==============================] - 1s 32ms/step - loss: 5.1448e-04 - val_loss: 9.0646e-04\n",
            "Epoch 134/500\n",
            "19/19 [==============================] - 1s 32ms/step - loss: 6.8754e-04 - val_loss: 0.0016\n",
            "Epoch 135/500\n",
            "19/19 [==============================] - 1s 33ms/step - loss: 4.6799e-04 - val_loss: 0.0048\n",
            "Epoch 136/500\n",
            "19/19 [==============================] - 1s 33ms/step - loss: 8.0734e-04 - val_loss: 0.0030\n",
            "Epoch 137/500\n",
            "19/19 [==============================] - 1s 31ms/step - loss: 6.1069e-04 - val_loss: 0.0024\n",
            "Epoch 138/500\n",
            "19/19 [==============================] - 1s 31ms/step - loss: 5.8989e-04 - val_loss: 0.0015\n",
            "Epoch 139/500\n",
            "19/19 [==============================] - 1s 31ms/step - loss: 6.4970e-04 - val_loss: 8.1380e-04\n",
            "Epoch 140/500\n",
            "19/19 [==============================] - 1s 32ms/step - loss: 5.2529e-04 - val_loss: 0.0011\n",
            "Epoch 141/500\n",
            "19/19 [==============================] - 1s 32ms/step - loss: 5.6925e-04 - val_loss: 0.0013\n",
            "Epoch 142/500\n",
            "19/19 [==============================] - 1s 33ms/step - loss: 5.5296e-04 - val_loss: 0.0078\n",
            "Epoch 143/500\n",
            "19/19 [==============================] - 1s 32ms/step - loss: 9.1882e-04 - val_loss: 0.0017\n",
            "Epoch 144/500\n",
            "19/19 [==============================] - 1s 32ms/step - loss: 7.5777e-04 - val_loss: 0.0064\n",
            "Epoch 145/500\n",
            "19/19 [==============================] - 1s 32ms/step - loss: 5.3953e-04 - val_loss: 0.0013\n",
            "Epoch 146/500\n",
            "19/19 [==============================] - 1s 33ms/step - loss: 4.5473e-04 - val_loss: 0.0038\n",
            "Epoch 147/500\n",
            "19/19 [==============================] - 1s 32ms/step - loss: 5.3362e-04 - val_loss: 0.0018\n",
            "Epoch 148/500\n",
            "19/19 [==============================] - 1s 32ms/step - loss: 5.1728e-04 - val_loss: 8.0927e-04\n",
            "Epoch 149/500\n",
            "19/19 [==============================] - 1s 32ms/step - loss: 7.4628e-04 - val_loss: 0.0043\n",
            "Epoch 150/500\n",
            "19/19 [==============================] - 1s 32ms/step - loss: 5.3881e-04 - val_loss: 0.0023\n",
            "Epoch 151/500\n",
            "19/19 [==============================] - 1s 31ms/step - loss: 5.2250e-04 - val_loss: 0.0014\n",
            "Epoch 152/500\n",
            "19/19 [==============================] - 1s 32ms/step - loss: 5.0550e-04 - val_loss: 0.0014\n",
            "Epoch 153/500\n",
            "19/19 [==============================] - 1s 33ms/step - loss: 5.5902e-04 - val_loss: 0.0013\n",
            "Epoch 154/500\n",
            "19/19 [==============================] - 1s 32ms/step - loss: 5.5266e-04 - val_loss: 0.0010\n",
            "Epoch 155/500\n",
            "19/19 [==============================] - 1s 32ms/step - loss: 6.7075e-04 - val_loss: 0.0043\n",
            "Epoch 156/500\n",
            "19/19 [==============================] - 1s 31ms/step - loss: 6.7085e-04 - val_loss: 0.0018\n",
            "Epoch 157/500\n",
            "19/19 [==============================] - 1s 32ms/step - loss: 4.7954e-04 - val_loss: 0.0023\n",
            "Epoch 158/500\n",
            "19/19 [==============================] - 1s 31ms/step - loss: 5.0345e-04 - val_loss: 0.0013\n",
            "Epoch 159/500\n",
            "19/19 [==============================] - 1s 30ms/step - loss: 5.1297e-04 - val_loss: 0.0021\n",
            "Epoch 160/500\n",
            "19/19 [==============================] - 1s 32ms/step - loss: 5.6988e-04 - val_loss: 0.0027\n",
            "Epoch 161/500\n",
            "19/19 [==============================] - 1s 32ms/step - loss: 5.5670e-04 - val_loss: 0.0017\n",
            "Epoch 162/500\n",
            "19/19 [==============================] - 1s 31ms/step - loss: 4.8847e-04 - val_loss: 0.0026\n",
            "Epoch 163/500\n",
            "19/19 [==============================] - 1s 32ms/step - loss: 5.2067e-04 - val_loss: 0.0026\n",
            "Epoch 164/500\n",
            "19/19 [==============================] - 1s 32ms/step - loss: 5.0223e-04 - val_loss: 0.0057\n",
            "Epoch 165/500\n",
            "19/19 [==============================] - 1s 31ms/step - loss: 6.5618e-04 - val_loss: 0.0022\n",
            "Epoch 166/500\n",
            "19/19 [==============================] - 1s 32ms/step - loss: 5.9675e-04 - val_loss: 0.0012\n",
            "Epoch 167/500\n",
            "19/19 [==============================] - 1s 33ms/step - loss: 6.4607e-04 - val_loss: 7.7317e-04\n",
            "Epoch 168/500\n",
            "19/19 [==============================] - 1s 32ms/step - loss: 7.0258e-04 - val_loss: 0.0022\n",
            "Epoch 169/500\n",
            "19/19 [==============================] - 1s 31ms/step - loss: 4.7154e-04 - val_loss: 0.0044\n",
            "Epoch 170/500\n",
            "19/19 [==============================] - 1s 33ms/step - loss: 7.8303e-04 - val_loss: 0.0016\n",
            "Epoch 171/500\n",
            "19/19 [==============================] - 1s 32ms/step - loss: 6.1557e-04 - val_loss: 0.0024\n",
            "Epoch 172/500\n",
            "19/19 [==============================] - 1s 33ms/step - loss: 5.9958e-04 - val_loss: 8.3447e-04\n",
            "Epoch 173/500\n",
            "19/19 [==============================] - 1s 33ms/step - loss: 5.5709e-04 - val_loss: 0.0019\n",
            "Epoch 174/500\n",
            "19/19 [==============================] - 1s 32ms/step - loss: 5.1398e-04 - val_loss: 9.8582e-04\n",
            "Epoch 175/500\n",
            "19/19 [==============================] - 1s 32ms/step - loss: 5.0745e-04 - val_loss: 0.0023\n",
            "Epoch 176/500\n",
            "19/19 [==============================] - 1s 32ms/step - loss: 5.5661e-04 - val_loss: 0.0027\n",
            "Epoch 177/500\n",
            "19/19 [==============================] - 1s 32ms/step - loss: 4.4679e-04 - val_loss: 0.0035\n",
            "Epoch 178/500\n",
            "19/19 [==============================] - 1s 33ms/step - loss: 5.4905e-04 - val_loss: 0.0012\n",
            "Epoch 179/500\n",
            "19/19 [==============================] - 1s 32ms/step - loss: 5.3741e-04 - val_loss: 0.0018\n",
            "Epoch 180/500\n",
            "19/19 [==============================] - 1s 32ms/step - loss: 5.4526e-04 - val_loss: 0.0015\n",
            "Epoch 181/500\n",
            "19/19 [==============================] - 1s 32ms/step - loss: 5.1960e-04 - val_loss: 0.0041\n",
            "Epoch 182/500\n",
            "19/19 [==============================] - 1s 32ms/step - loss: 6.0023e-04 - val_loss: 0.0049\n",
            "Epoch 183/500\n",
            "19/19 [==============================] - 1s 31ms/step - loss: 8.4231e-04 - val_loss: 7.9492e-04\n",
            "Epoch 184/500\n",
            "19/19 [==============================] - 1s 30ms/step - loss: 5.3067e-04 - val_loss: 0.0021\n",
            "Epoch 185/500\n",
            "19/19 [==============================] - 1s 31ms/step - loss: 5.5792e-04 - val_loss: 0.0013\n",
            "Epoch 186/500\n",
            "19/19 [==============================] - 1s 31ms/step - loss: 4.5961e-04 - val_loss: 0.0012\n",
            "Epoch 187/500\n",
            "19/19 [==============================] - 1s 32ms/step - loss: 5.2180e-04 - val_loss: 0.0029\n",
            "Epoch 188/500\n",
            "19/19 [==============================] - 1s 33ms/step - loss: 5.0032e-04 - val_loss: 9.1295e-04\n",
            "Epoch 189/500\n",
            "19/19 [==============================] - 1s 33ms/step - loss: 5.3057e-04 - val_loss: 0.0015\n",
            "Epoch 190/500\n",
            "19/19 [==============================] - 1s 33ms/step - loss: 5.2546e-04 - val_loss: 0.0021\n",
            "Epoch 191/500\n",
            "19/19 [==============================] - 1s 31ms/step - loss: 5.3102e-04 - val_loss: 0.0025\n",
            "Epoch 192/500\n",
            "19/19 [==============================] - 1s 32ms/step - loss: 5.5742e-04 - val_loss: 0.0017\n",
            "Epoch 193/500\n",
            "19/19 [==============================] - 1s 33ms/step - loss: 5.0278e-04 - val_loss: 7.9680e-04\n",
            "Epoch 194/500\n",
            "19/19 [==============================] - 1s 32ms/step - loss: 6.5535e-04 - val_loss: 0.0019\n",
            "Epoch 195/500\n",
            "19/19 [==============================] - 1s 31ms/step - loss: 5.2250e-04 - val_loss: 0.0023\n",
            "Epoch 196/500\n",
            "19/19 [==============================] - 1s 32ms/step - loss: 4.3035e-04 - val_loss: 0.0023\n",
            "Epoch 197/500\n",
            "19/19 [==============================] - 1s 31ms/step - loss: 4.7357e-04 - val_loss: 0.0035\n",
            "Epoch 198/500\n",
            "19/19 [==============================] - 1s 33ms/step - loss: 5.0577e-04 - val_loss: 0.0011\n",
            "Epoch 199/500\n",
            "19/19 [==============================] - 1s 32ms/step - loss: 5.2147e-04 - val_loss: 0.0022\n",
            "Epoch 200/500\n",
            "19/19 [==============================] - 1s 32ms/step - loss: 4.9490e-04 - val_loss: 0.0023\n",
            "Epoch 201/500\n",
            "19/19 [==============================] - 1s 32ms/step - loss: 4.8105e-04 - val_loss: 0.0033\n",
            "Epoch 202/500\n",
            "19/19 [==============================] - 1s 33ms/step - loss: 5.5902e-04 - val_loss: 7.2014e-04\n",
            "Epoch 203/500\n",
            "19/19 [==============================] - 1s 34ms/step - loss: 5.4913e-04 - val_loss: 0.0011\n",
            "Epoch 204/500\n",
            "19/19 [==============================] - 1s 32ms/step - loss: 4.9577e-04 - val_loss: 0.0037\n",
            "Epoch 205/500\n",
            "19/19 [==============================] - 1s 31ms/step - loss: 4.9635e-04 - val_loss: 9.4531e-04\n",
            "Epoch 206/500\n",
            "19/19 [==============================] - 1s 32ms/step - loss: 5.5830e-04 - val_loss: 0.0012\n",
            "Epoch 207/500\n",
            "19/19 [==============================] - 1s 32ms/step - loss: 6.8728e-04 - val_loss: 0.0016\n",
            "Epoch 208/500\n",
            "19/19 [==============================] - 1s 32ms/step - loss: 5.2138e-04 - val_loss: 0.0019\n",
            "Epoch 209/500\n",
            "19/19 [==============================] - 1s 32ms/step - loss: 5.0279e-04 - val_loss: 0.0016\n",
            "Epoch 210/500\n",
            "19/19 [==============================] - 1s 32ms/step - loss: 5.3101e-04 - val_loss: 0.0073\n",
            "Epoch 211/500\n",
            "19/19 [==============================] - 1s 31ms/step - loss: 7.2519e-04 - val_loss: 0.0016\n",
            "Epoch 212/500\n",
            "19/19 [==============================] - 1s 32ms/step - loss: 5.0688e-04 - val_loss: 0.0013\n",
            "Epoch 213/500\n",
            "19/19 [==============================] - 1s 32ms/step - loss: 4.7640e-04 - val_loss: 0.0012\n",
            "Epoch 214/500\n",
            "19/19 [==============================] - 1s 32ms/step - loss: 4.5588e-04 - val_loss: 0.0023\n",
            "Epoch 215/500\n",
            "19/19 [==============================] - 1s 32ms/step - loss: 5.1029e-04 - val_loss: 0.0017\n",
            "Epoch 216/500\n",
            "19/19 [==============================] - 1s 31ms/step - loss: 5.1576e-04 - val_loss: 0.0028\n",
            "Epoch 217/500\n",
            "19/19 [==============================] - 1s 31ms/step - loss: 4.5596e-04 - val_loss: 8.1745e-04\n",
            "Epoch 218/500\n",
            "19/19 [==============================] - 1s 31ms/step - loss: 5.3032e-04 - val_loss: 0.0031\n",
            "Epoch 219/500\n",
            "19/19 [==============================] - 1s 31ms/step - loss: 5.4248e-04 - val_loss: 0.0058\n",
            "Epoch 220/500\n",
            "19/19 [==============================] - 1s 32ms/step - loss: 6.0680e-04 - val_loss: 0.0011\n",
            "Epoch 221/500\n",
            "19/19 [==============================] - 1s 31ms/step - loss: 5.2068e-04 - val_loss: 0.0030\n",
            "Epoch 222/500\n",
            "19/19 [==============================] - 1s 33ms/step - loss: 5.0764e-04 - val_loss: 0.0024\n",
            "Epoch 223/500\n",
            "19/19 [==============================] - 1s 34ms/step - loss: 5.2716e-04 - val_loss: 7.5669e-04\n",
            "Epoch 224/500\n",
            "19/19 [==============================] - 1s 32ms/step - loss: 5.3514e-04 - val_loss: 0.0038\n",
            "Epoch 225/500\n",
            "19/19 [==============================] - 1s 33ms/step - loss: 5.3854e-04 - val_loss: 0.0041\n",
            "Epoch 226/500\n",
            "19/19 [==============================] - 1s 32ms/step - loss: 5.3465e-04 - val_loss: 0.0012\n",
            "Epoch 227/500\n",
            "19/19 [==============================] - 1s 32ms/step - loss: 5.0768e-04 - val_loss: 0.0013\n",
            "Epoch 228/500\n",
            "19/19 [==============================] - 1s 33ms/step - loss: 5.4169e-04 - val_loss: 0.0052\n",
            "Epoch 229/500\n",
            "19/19 [==============================] - 1s 32ms/step - loss: 5.6909e-04 - val_loss: 0.0012\n",
            "Epoch 230/500\n",
            "19/19 [==============================] - 1s 32ms/step - loss: 5.9295e-04 - val_loss: 0.0040\n",
            "Epoch 231/500\n",
            "19/19 [==============================] - 1s 32ms/step - loss: 5.1780e-04 - val_loss: 9.8301e-04\n",
            "Epoch 232/500\n",
            "19/19 [==============================] - 1s 32ms/step - loss: 4.5130e-04 - val_loss: 0.0045\n",
            "Epoch 233/500\n",
            "19/19 [==============================] - 1s 33ms/step - loss: 4.7386e-04 - val_loss: 0.0011\n",
            "Epoch 234/500\n",
            "19/19 [==============================] - 1s 33ms/step - loss: 5.6190e-04 - val_loss: 0.0040\n",
            "Epoch 235/500\n",
            "19/19 [==============================] - 1s 33ms/step - loss: 5.2859e-04 - val_loss: 0.0023\n",
            "Epoch 236/500\n",
            "19/19 [==============================] - 1s 33ms/step - loss: 5.6425e-04 - val_loss: 0.0027\n",
            "Epoch 237/500\n",
            "19/19 [==============================] - 1s 32ms/step - loss: 4.9580e-04 - val_loss: 0.0013\n",
            "Epoch 238/500\n",
            "19/19 [==============================] - 1s 32ms/step - loss: 5.8558e-04 - val_loss: 0.0035\n",
            "Epoch 239/500\n",
            "19/19 [==============================] - 1s 33ms/step - loss: 5.2832e-04 - val_loss: 0.0011\n",
            "Epoch 240/500\n",
            "19/19 [==============================] - 1s 33ms/step - loss: 5.3828e-04 - val_loss: 0.0036\n",
            "Epoch 241/500\n",
            "19/19 [==============================] - 1s 34ms/step - loss: 5.2409e-04 - val_loss: 0.0022\n",
            "Epoch 242/500\n",
            "19/19 [==============================] - 1s 32ms/step - loss: 5.3416e-04 - val_loss: 0.0041\n",
            "Epoch 243/500\n",
            "19/19 [==============================] - 1s 32ms/step - loss: 5.3956e-04 - val_loss: 9.7340e-04\n",
            "Epoch 244/500\n",
            "19/19 [==============================] - 1s 32ms/step - loss: 4.6972e-04 - val_loss: 0.0043\n",
            "Epoch 245/500\n",
            "19/19 [==============================] - 1s 31ms/step - loss: 4.9808e-04 - val_loss: 0.0025\n",
            "Epoch 246/500\n",
            "19/19 [==============================] - 1s 33ms/step - loss: 4.8333e-04 - val_loss: 0.0035\n",
            "Epoch 247/500\n",
            "19/19 [==============================] - 1s 32ms/step - loss: 5.2034e-04 - val_loss: 8.0111e-04\n",
            "Epoch 248/500\n",
            "19/19 [==============================] - 1s 32ms/step - loss: 6.9346e-04 - val_loss: 0.0010\n",
            "Epoch 249/500\n",
            "19/19 [==============================] - 1s 33ms/step - loss: 6.2714e-04 - val_loss: 0.0013\n",
            "Epoch 250/500\n",
            "19/19 [==============================] - 1s 33ms/step - loss: 5.6788e-04 - val_loss: 0.0043\n",
            "Epoch 251/500\n",
            "19/19 [==============================] - 1s 33ms/step - loss: 4.5548e-04 - val_loss: 0.0013\n",
            "Epoch 252/500\n",
            "19/19 [==============================] - 1s 33ms/step - loss: 5.5532e-04 - val_loss: 0.0014\n",
            "Epoch 253/500\n",
            "19/19 [==============================] - 1s 32ms/step - loss: 5.5878e-04 - val_loss: 0.0013\n",
            "Epoch 254/500\n",
            "19/19 [==============================] - 1s 33ms/step - loss: 5.5743e-04 - val_loss: 0.0021\n",
            "Epoch 255/500\n",
            "19/19 [==============================] - 1s 31ms/step - loss: 5.3952e-04 - val_loss: 0.0026\n",
            "Epoch 256/500\n",
            "19/19 [==============================] - 1s 33ms/step - loss: 4.4516e-04 - val_loss: 0.0095\n",
            "Epoch 257/500\n",
            "19/19 [==============================] - 1s 32ms/step - loss: 8.8428e-04 - val_loss: 7.1232e-04\n",
            "Epoch 258/500\n",
            "19/19 [==============================] - 1s 32ms/step - loss: 6.6809e-04 - val_loss: 0.0036\n",
            "Epoch 259/500\n",
            "19/19 [==============================] - 1s 33ms/step - loss: 5.0016e-04 - val_loss: 0.0021\n",
            "Epoch 260/500\n",
            "19/19 [==============================] - 1s 33ms/step - loss: 6.7642e-04 - val_loss: 0.0091\n",
            "Epoch 261/500\n",
            "19/19 [==============================] - 1s 33ms/step - loss: 7.5654e-04 - val_loss: 8.1086e-04\n",
            "Epoch 262/500\n",
            "19/19 [==============================] - 1s 33ms/step - loss: 5.4105e-04 - val_loss: 0.0045\n",
            "Epoch 263/500\n",
            "19/19 [==============================] - 1s 32ms/step - loss: 5.0538e-04 - val_loss: 0.0049\n",
            "Epoch 264/500\n",
            "19/19 [==============================] - 1s 33ms/step - loss: 6.5659e-04 - val_loss: 0.0028\n",
            "Epoch 265/500\n",
            "19/19 [==============================] - 1s 33ms/step - loss: 5.0975e-04 - val_loss: 0.0015\n",
            "Epoch 266/500\n",
            "19/19 [==============================] - 1s 32ms/step - loss: 5.3045e-04 - val_loss: 0.0034\n",
            "Epoch 267/500\n",
            "19/19 [==============================] - 1s 32ms/step - loss: 4.9054e-04 - val_loss: 0.0027\n",
            "Epoch 268/500\n",
            "19/19 [==============================] - 1s 32ms/step - loss: 4.4673e-04 - val_loss: 0.0039\n",
            "Epoch 269/500\n",
            "19/19 [==============================] - 1s 33ms/step - loss: 4.6416e-04 - val_loss: 0.0030\n",
            "Epoch 270/500\n",
            "19/19 [==============================] - 1s 32ms/step - loss: 4.7809e-04 - val_loss: 0.0022\n",
            "Epoch 271/500\n",
            "19/19 [==============================] - 1s 32ms/step - loss: 6.1047e-04 - val_loss: 0.0041\n",
            "Epoch 272/500\n",
            "19/19 [==============================] - 1s 33ms/step - loss: 4.8937e-04 - val_loss: 0.0044\n",
            "Epoch 273/500\n",
            "19/19 [==============================] - 1s 32ms/step - loss: 4.8997e-04 - val_loss: 0.0023\n",
            "Epoch 274/500\n",
            "19/19 [==============================] - 1s 34ms/step - loss: 6.0202e-04 - val_loss: 0.0039\n",
            "Epoch 275/500\n",
            "19/19 [==============================] - 1s 32ms/step - loss: 5.2443e-04 - val_loss: 0.0032\n",
            "Epoch 276/500\n",
            "19/19 [==============================] - 1s 32ms/step - loss: 4.5766e-04 - val_loss: 0.0058\n",
            "Epoch 277/500\n",
            "19/19 [==============================] - 1s 33ms/step - loss: 6.2933e-04 - val_loss: 0.0065\n",
            "Epoch 278/500\n",
            "19/19 [==============================] - 1s 32ms/step - loss: 5.7336e-04 - val_loss: 0.0023\n",
            "Epoch 279/500\n",
            "19/19 [==============================] - 1s 32ms/step - loss: 5.1473e-04 - val_loss: 0.0034\n",
            "Epoch 280/500\n",
            "19/19 [==============================] - 1s 33ms/step - loss: 5.0536e-04 - val_loss: 0.0030\n",
            "Epoch 281/500\n",
            "19/19 [==============================] - 1s 32ms/step - loss: 4.3913e-04 - val_loss: 0.0035\n",
            "Epoch 282/500\n",
            "19/19 [==============================] - 1s 33ms/step - loss: 4.6847e-04 - val_loss: 0.0034\n",
            "Epoch 283/500\n",
            "19/19 [==============================] - 1s 31ms/step - loss: 6.0414e-04 - val_loss: 7.2533e-04\n",
            "Epoch 284/500\n",
            "19/19 [==============================] - 1s 31ms/step - loss: 5.1320e-04 - val_loss: 0.0034\n",
            "Epoch 285/500\n",
            "19/19 [==============================] - 1s 32ms/step - loss: 4.4354e-04 - val_loss: 0.0023\n",
            "Epoch 286/500\n",
            "19/19 [==============================] - 1s 33ms/step - loss: 4.4845e-04 - val_loss: 0.0032\n",
            "Epoch 287/500\n",
            "19/19 [==============================] - 1s 33ms/step - loss: 4.4121e-04 - val_loss: 0.0083\n",
            "Epoch 288/500\n",
            "19/19 [==============================] - 1s 31ms/step - loss: 7.0034e-04 - val_loss: 0.0032\n",
            "Epoch 289/500\n",
            "19/19 [==============================] - 1s 32ms/step - loss: 6.2081e-04 - val_loss: 0.0026\n",
            "Epoch 290/500\n",
            "19/19 [==============================] - 1s 32ms/step - loss: 4.9597e-04 - val_loss: 0.0033\n",
            "Epoch 291/500\n",
            "19/19 [==============================] - 1s 33ms/step - loss: 5.3075e-04 - val_loss: 0.0042\n",
            "Epoch 292/500\n",
            "19/19 [==============================] - 1s 33ms/step - loss: 5.0992e-04 - val_loss: 0.0015\n",
            "Epoch 293/500\n",
            "19/19 [==============================] - 1s 32ms/step - loss: 4.7550e-04 - val_loss: 0.0011\n",
            "Epoch 294/500\n",
            "19/19 [==============================] - 1s 31ms/step - loss: 7.1968e-04 - val_loss: 0.0045\n",
            "Epoch 295/500\n",
            "19/19 [==============================] - 1s 33ms/step - loss: 5.5581e-04 - val_loss: 0.0019\n",
            "Epoch 296/500\n",
            "19/19 [==============================] - 1s 32ms/step - loss: 4.6933e-04 - val_loss: 0.0044\n",
            "Epoch 297/500\n",
            "19/19 [==============================] - 1s 33ms/step - loss: 4.2960e-04 - val_loss: 0.0038\n",
            "Epoch 298/500\n",
            "19/19 [==============================] - 1s 33ms/step - loss: 5.6312e-04 - val_loss: 0.0011\n",
            "Epoch 299/500\n",
            "19/19 [==============================] - 1s 33ms/step - loss: 6.5523e-04 - val_loss: 0.0076\n",
            "Epoch 300/500\n",
            "19/19 [==============================] - 1s 34ms/step - loss: 6.2208e-04 - val_loss: 0.0024\n",
            "Epoch 301/500\n",
            "19/19 [==============================] - 1s 32ms/step - loss: 5.3067e-04 - val_loss: 0.0043\n",
            "Epoch 302/500\n",
            "19/19 [==============================] - 1s 33ms/step - loss: 4.6607e-04 - val_loss: 0.0021\n",
            "Epoch 303/500\n",
            "19/19 [==============================] - 1s 32ms/step - loss: 5.0700e-04 - val_loss: 0.0027\n",
            "Epoch 304/500\n",
            "19/19 [==============================] - 1s 33ms/step - loss: 5.4155e-04 - val_loss: 0.0056\n",
            "Epoch 305/500\n",
            "19/19 [==============================] - 1s 32ms/step - loss: 5.8393e-04 - val_loss: 0.0040\n",
            "Epoch 306/500\n",
            "19/19 [==============================] - 1s 34ms/step - loss: 4.5811e-04 - val_loss: 0.0046\n",
            "Epoch 307/500\n",
            "19/19 [==============================] - 1s 32ms/step - loss: 5.0485e-04 - val_loss: 0.0031\n",
            "Epoch 308/500\n",
            "19/19 [==============================] - 1s 33ms/step - loss: 5.9936e-04 - val_loss: 0.0067\n",
            "Epoch 309/500\n",
            "19/19 [==============================] - 1s 32ms/step - loss: 5.6869e-04 - val_loss: 0.0020\n",
            "Epoch 310/500\n",
            "19/19 [==============================] - 1s 33ms/step - loss: 5.4670e-04 - val_loss: 0.0028\n",
            "Epoch 311/500\n",
            "19/19 [==============================] - 1s 33ms/step - loss: 5.8298e-04 - val_loss: 0.0082\n",
            "Epoch 312/500\n",
            "19/19 [==============================] - 1s 33ms/step - loss: 6.0362e-04 - val_loss: 0.0026\n",
            "Epoch 313/500\n",
            "19/19 [==============================] - 1s 33ms/step - loss: 4.7814e-04 - val_loss: 0.0062\n",
            "Epoch 314/500\n",
            "19/19 [==============================] - 1s 31ms/step - loss: 4.7096e-04 - val_loss: 0.0022\n",
            "Epoch 315/500\n",
            "19/19 [==============================] - 1s 32ms/step - loss: 5.4983e-04 - val_loss: 0.0042\n",
            "Epoch 316/500\n",
            "19/19 [==============================] - 1s 33ms/step - loss: 4.8668e-04 - val_loss: 0.0025\n",
            "Epoch 317/500\n",
            "19/19 [==============================] - 1s 32ms/step - loss: 5.9450e-04 - val_loss: 0.0100\n",
            "Epoch 318/500\n",
            "19/19 [==============================] - 1s 32ms/step - loss: 5.2021e-04 - val_loss: 0.0049\n",
            "Epoch 319/500\n",
            "19/19 [==============================] - 1s 33ms/step - loss: 4.7230e-04 - val_loss: 0.0025\n",
            "Epoch 320/500\n",
            "19/19 [==============================] - 1s 33ms/step - loss: 6.4831e-04 - val_loss: 0.0108\n",
            "Epoch 321/500\n",
            "19/19 [==============================] - 1s 32ms/step - loss: 5.3071e-04 - val_loss: 0.0042\n",
            "Epoch 322/500\n",
            "19/19 [==============================] - 1s 33ms/step - loss: 5.2660e-04 - val_loss: 0.0065\n",
            "Epoch 323/500\n",
            "19/19 [==============================] - 1s 32ms/step - loss: 4.2825e-04 - val_loss: 0.0038\n",
            "Epoch 324/500\n",
            "19/19 [==============================] - 1s 33ms/step - loss: 4.3921e-04 - val_loss: 0.0027\n",
            "Epoch 325/500\n",
            "19/19 [==============================] - 1s 33ms/step - loss: 4.5415e-04 - val_loss: 0.0056\n",
            "Epoch 326/500\n",
            "19/19 [==============================] - 1s 33ms/step - loss: 4.8209e-04 - val_loss: 0.0038\n",
            "Epoch 327/500\n",
            "19/19 [==============================] - 1s 32ms/step - loss: 4.7652e-04 - val_loss: 0.0063\n",
            "Epoch 328/500\n",
            "19/19 [==============================] - 1s 33ms/step - loss: 5.2038e-04 - val_loss: 0.0036\n",
            "Epoch 329/500\n",
            "19/19 [==============================] - 1s 33ms/step - loss: 4.6835e-04 - val_loss: 0.0088\n",
            "Epoch 330/500\n",
            "19/19 [==============================] - 1s 33ms/step - loss: 5.5801e-04 - val_loss: 0.0035\n",
            "Epoch 331/500\n",
            "19/19 [==============================] - 1s 34ms/step - loss: 4.6242e-04 - val_loss: 0.0033\n",
            "Epoch 332/500\n",
            "19/19 [==============================] - 1s 33ms/step - loss: 4.7824e-04 - val_loss: 0.0075\n",
            "Epoch 333/500\n",
            "19/19 [==============================] - 1s 33ms/step - loss: 5.4473e-04 - val_loss: 0.0073\n",
            "Epoch 334/500\n",
            "19/19 [==============================] - 1s 33ms/step - loss: 5.3099e-04 - val_loss: 0.0040\n",
            "Epoch 335/500\n",
            "19/19 [==============================] - 1s 34ms/step - loss: 5.7375e-04 - val_loss: 0.0080\n",
            "Epoch 336/500\n",
            "19/19 [==============================] - 1s 32ms/step - loss: 6.0206e-04 - val_loss: 0.0031\n",
            "Epoch 337/500\n",
            "19/19 [==============================] - 1s 32ms/step - loss: 4.8767e-04 - val_loss: 0.0089\n",
            "Epoch 338/500\n",
            "19/19 [==============================] - 1s 32ms/step - loss: 4.8555e-04 - val_loss: 0.0034\n",
            "Epoch 339/500\n",
            "19/19 [==============================] - 1s 35ms/step - loss: 5.0219e-04 - val_loss: 0.0129\n",
            "Epoch 340/500\n",
            "19/19 [==============================] - 1s 32ms/step - loss: 6.3144e-04 - val_loss: 0.0114\n",
            "Epoch 341/500\n",
            "19/19 [==============================] - 1s 33ms/step - loss: 0.0011 - val_loss: 0.0032\n",
            "Epoch 342/500\n",
            "19/19 [==============================] - 1s 33ms/step - loss: 8.1613e-04 - val_loss: 0.0053\n",
            "Epoch 343/500\n",
            "19/19 [==============================] - 1s 32ms/step - loss: 4.9916e-04 - val_loss: 0.0077\n",
            "Epoch 344/500\n",
            "19/19 [==============================] - 1s 32ms/step - loss: 6.4355e-04 - val_loss: 0.0026\n",
            "Epoch 345/500\n",
            "19/19 [==============================] - 1s 33ms/step - loss: 6.0412e-04 - val_loss: 0.0047\n",
            "Epoch 346/500\n",
            "19/19 [==============================] - 1s 32ms/step - loss: 5.3067e-04 - val_loss: 0.0035\n",
            "Epoch 347/500\n",
            "19/19 [==============================] - 1s 33ms/step - loss: 5.2342e-04 - val_loss: 0.0033\n",
            "Epoch 348/500\n",
            "19/19 [==============================] - 1s 33ms/step - loss: 4.7682e-04 - val_loss: 0.0066\n",
            "Epoch 349/500\n",
            "19/19 [==============================] - 1s 33ms/step - loss: 4.7605e-04 - val_loss: 0.0035\n",
            "Epoch 350/500\n",
            "19/19 [==============================] - 1s 33ms/step - loss: 4.3904e-04 - val_loss: 0.0059\n",
            "Epoch 351/500\n",
            "19/19 [==============================] - 1s 33ms/step - loss: 5.1366e-04 - val_loss: 0.0050\n",
            "Epoch 352/500\n",
            "19/19 [==============================] - 1s 33ms/step - loss: 4.8816e-04 - val_loss: 0.0029\n",
            "Epoch 353/500\n",
            "19/19 [==============================] - 1s 33ms/step - loss: 4.5901e-04 - val_loss: 0.0047\n",
            "Epoch 354/500\n",
            "19/19 [==============================] - 1s 32ms/step - loss: 4.7662e-04 - val_loss: 0.0052\n",
            "Epoch 355/500\n",
            "19/19 [==============================] - 1s 33ms/step - loss: 4.7921e-04 - val_loss: 0.0055\n",
            "Epoch 356/500\n",
            "19/19 [==============================] - 1s 33ms/step - loss: 4.6743e-04 - val_loss: 0.0042\n",
            "Epoch 357/500\n",
            "19/19 [==============================] - 1s 32ms/step - loss: 4.5264e-04 - val_loss: 0.0037\n",
            "Epoch 358/500\n",
            "19/19 [==============================] - 1s 34ms/step - loss: 5.6933e-04 - val_loss: 0.0050\n",
            "Epoch 359/500\n",
            "19/19 [==============================] - 1s 32ms/step - loss: 5.1983e-04 - val_loss: 0.0049\n",
            "Epoch 360/500\n",
            "19/19 [==============================] - 1s 32ms/step - loss: 4.6380e-04 - val_loss: 0.0041\n",
            "Epoch 361/500\n",
            "19/19 [==============================] - 1s 32ms/step - loss: 4.6832e-04 - val_loss: 0.0020\n",
            "Epoch 362/500\n",
            "19/19 [==============================] - 1s 33ms/step - loss: 7.2879e-04 - val_loss: 0.0033\n",
            "Epoch 363/500\n",
            "19/19 [==============================] - 1s 33ms/step - loss: 4.4490e-04 - val_loss: 0.0032\n",
            "Epoch 364/500\n",
            "19/19 [==============================] - 1s 32ms/step - loss: 4.3127e-04 - val_loss: 0.0028\n",
            "Epoch 365/500\n",
            "19/19 [==============================] - 1s 34ms/step - loss: 5.0005e-04 - val_loss: 0.0050\n",
            "Epoch 366/500\n",
            "19/19 [==============================] - 1s 33ms/step - loss: 4.9965e-04 - val_loss: 0.0045\n",
            "Epoch 367/500\n",
            "19/19 [==============================] - 1s 33ms/step - loss: 5.5408e-04 - val_loss: 0.0056\n",
            "Epoch 368/500\n",
            "19/19 [==============================] - 1s 33ms/step - loss: 4.7445e-04 - val_loss: 0.0032\n",
            "Epoch 369/500\n",
            "19/19 [==============================] - 1s 33ms/step - loss: 4.5208e-04 - val_loss: 0.0085\n",
            "Epoch 370/500\n",
            "19/19 [==============================] - 1s 33ms/step - loss: 7.1351e-04 - val_loss: 0.0060\n",
            "Epoch 371/500\n",
            "19/19 [==============================] - 1s 34ms/step - loss: 4.7734e-04 - val_loss: 0.0068\n",
            "Epoch 372/500\n",
            "19/19 [==============================] - 1s 32ms/step - loss: 4.7166e-04 - val_loss: 0.0029\n",
            "Epoch 373/500\n",
            "19/19 [==============================] - 1s 33ms/step - loss: 5.4049e-04 - val_loss: 0.0057\n",
            "Epoch 374/500\n",
            "19/19 [==============================] - 1s 34ms/step - loss: 4.9478e-04 - val_loss: 0.0016\n",
            "Epoch 375/500\n",
            "19/19 [==============================] - 1s 33ms/step - loss: 5.2481e-04 - val_loss: 0.0071\n",
            "Epoch 376/500\n",
            "19/19 [==============================] - 1s 33ms/step - loss: 5.1138e-04 - val_loss: 0.0049\n",
            "Epoch 377/500\n",
            "19/19 [==============================] - 1s 33ms/step - loss: 4.8646e-04 - val_loss: 0.0031\n",
            "Epoch 378/500\n",
            "19/19 [==============================] - 1s 33ms/step - loss: 5.8153e-04 - val_loss: 0.0065\n",
            "Epoch 379/500\n",
            "19/19 [==============================] - 1s 32ms/step - loss: 4.6786e-04 - val_loss: 0.0069\n",
            "Epoch 380/500\n",
            "19/19 [==============================] - 1s 34ms/step - loss: 5.5318e-04 - val_loss: 0.0053\n",
            "Epoch 381/500\n",
            "19/19 [==============================] - 1s 34ms/step - loss: 6.6057e-04 - val_loss: 0.0089\n",
            "Epoch 382/500\n",
            "19/19 [==============================] - 1s 33ms/step - loss: 5.2590e-04 - val_loss: 0.0078\n",
            "Epoch 383/500\n",
            "19/19 [==============================] - 1s 31ms/step - loss: 4.4893e-04 - val_loss: 0.0054\n",
            "Epoch 384/500\n",
            "19/19 [==============================] - 1s 33ms/step - loss: 4.4997e-04 - val_loss: 0.0038\n",
            "Epoch 385/500\n",
            "19/19 [==============================] - 1s 32ms/step - loss: 5.1306e-04 - val_loss: 0.0034\n",
            "Epoch 386/500\n",
            "19/19 [==============================] - 1s 33ms/step - loss: 5.6673e-04 - val_loss: 0.0052\n",
            "Epoch 387/500\n",
            "19/19 [==============================] - 1s 35ms/step - loss: 5.4683e-04 - val_loss: 0.0158\n",
            "Epoch 388/500\n",
            "19/19 [==============================] - 1s 33ms/step - loss: 5.2641e-04 - val_loss: 0.0038\n",
            "Epoch 389/500\n",
            "19/19 [==============================] - 1s 33ms/step - loss: 4.5284e-04 - val_loss: 0.0118\n",
            "Epoch 390/500\n",
            "19/19 [==============================] - 1s 34ms/step - loss: 6.1219e-04 - val_loss: 0.0049\n",
            "Epoch 391/500\n",
            "19/19 [==============================] - 1s 34ms/step - loss: 6.1695e-04 - val_loss: 0.0089\n",
            "Epoch 392/500\n",
            "19/19 [==============================] - 1s 34ms/step - loss: 4.5487e-04 - val_loss: 0.0074\n",
            "Epoch 393/500\n",
            "19/19 [==============================] - 1s 33ms/step - loss: 4.1442e-04 - val_loss: 0.0106\n",
            "Epoch 394/500\n",
            "19/19 [==============================] - 1s 34ms/step - loss: 6.0725e-04 - val_loss: 0.0042\n",
            "Epoch 395/500\n",
            "19/19 [==============================] - 1s 34ms/step - loss: 4.8456e-04 - val_loss: 0.0140\n",
            "Epoch 396/500\n",
            "19/19 [==============================] - 1s 33ms/step - loss: 5.8385e-04 - val_loss: 0.0061\n",
            "Epoch 397/500\n",
            "19/19 [==============================] - 1s 34ms/step - loss: 5.0349e-04 - val_loss: 0.0061\n",
            "Epoch 398/500\n",
            "19/19 [==============================] - 1s 33ms/step - loss: 4.7890e-04 - val_loss: 0.0078\n",
            "Epoch 399/500\n",
            "19/19 [==============================] - 1s 33ms/step - loss: 4.8211e-04 - val_loss: 0.0059\n",
            "Epoch 400/500\n",
            "19/19 [==============================] - 1s 34ms/step - loss: 3.9189e-04 - val_loss: 0.0076\n",
            "Epoch 401/500\n",
            "19/19 [==============================] - 1s 34ms/step - loss: 4.5841e-04 - val_loss: 0.0056\n",
            "Epoch 402/500\n",
            "19/19 [==============================] - 1s 34ms/step - loss: 5.4226e-04 - val_loss: 0.0142\n",
            "Epoch 403/500\n",
            "19/19 [==============================] - 1s 33ms/step - loss: 5.2494e-04 - val_loss: 0.0072\n",
            "Epoch 404/500\n",
            "19/19 [==============================] - 1s 34ms/step - loss: 4.6590e-04 - val_loss: 0.0066\n",
            "Epoch 405/500\n",
            "19/19 [==============================] - 1s 34ms/step - loss: 4.7822e-04 - val_loss: 0.0107\n",
            "Epoch 406/500\n",
            "19/19 [==============================] - 1s 32ms/step - loss: 5.0884e-04 - val_loss: 0.0058\n",
            "Epoch 407/500\n",
            "19/19 [==============================] - 1s 33ms/step - loss: 5.1217e-04 - val_loss: 0.0061\n",
            "Epoch 408/500\n",
            "19/19 [==============================] - 1s 33ms/step - loss: 5.1359e-04 - val_loss: 0.0096\n",
            "Epoch 409/500\n",
            "19/19 [==============================] - 1s 33ms/step - loss: 4.5894e-04 - val_loss: 0.0103\n",
            "Epoch 410/500\n",
            "19/19 [==============================] - 1s 34ms/step - loss: 5.4792e-04 - val_loss: 0.0044\n",
            "Epoch 411/500\n",
            "19/19 [==============================] - 1s 33ms/step - loss: 4.9385e-04 - val_loss: 0.0061\n",
            "Epoch 412/500\n",
            "19/19 [==============================] - 1s 34ms/step - loss: 6.0009e-04 - val_loss: 0.0127\n",
            "Epoch 413/500\n",
            "19/19 [==============================] - 1s 34ms/step - loss: 4.3682e-04 - val_loss: 0.0088\n",
            "Epoch 414/500\n",
            "19/19 [==============================] - 1s 34ms/step - loss: 4.4747e-04 - val_loss: 0.0117\n",
            "Epoch 415/500\n",
            "19/19 [==============================] - 1s 33ms/step - loss: 5.2157e-04 - val_loss: 0.0119\n",
            "Epoch 416/500\n",
            "19/19 [==============================] - 1s 34ms/step - loss: 4.5064e-04 - val_loss: 0.0112\n",
            "Epoch 417/500\n",
            "19/19 [==============================] - 1s 34ms/step - loss: 4.6359e-04 - val_loss: 0.0047\n",
            "Epoch 418/500\n",
            "19/19 [==============================] - 1s 34ms/step - loss: 5.7122e-04 - val_loss: 0.0133\n",
            "Epoch 419/500\n",
            "19/19 [==============================] - 1s 34ms/step - loss: 4.5865e-04 - val_loss: 0.0109\n",
            "Epoch 420/500\n",
            "19/19 [==============================] - 1s 33ms/step - loss: 4.5261e-04 - val_loss: 0.0070\n",
            "Epoch 421/500\n",
            "19/19 [==============================] - 1s 33ms/step - loss: 4.3615e-04 - val_loss: 0.0081\n",
            "Epoch 422/500\n",
            "19/19 [==============================] - 1s 34ms/step - loss: 4.9138e-04 - val_loss: 0.0099\n",
            "Epoch 423/500\n",
            "19/19 [==============================] - 1s 32ms/step - loss: 4.7609e-04 - val_loss: 0.0122\n",
            "Epoch 424/500\n",
            "19/19 [==============================] - 1s 33ms/step - loss: 4.6926e-04 - val_loss: 0.0133\n",
            "Epoch 425/500\n",
            "19/19 [==============================] - 1s 35ms/step - loss: 6.1262e-04 - val_loss: 0.0124\n",
            "Epoch 426/500\n",
            "19/19 [==============================] - 1s 34ms/step - loss: 5.4848e-04 - val_loss: 0.0052\n",
            "Epoch 427/500\n",
            "19/19 [==============================] - 1s 35ms/step - loss: 5.0275e-04 - val_loss: 0.0215\n",
            "Epoch 428/500\n",
            "19/19 [==============================] - 1s 33ms/step - loss: 4.7574e-04 - val_loss: 0.0089\n",
            "Epoch 429/500\n",
            "19/19 [==============================] - 1s 33ms/step - loss: 5.2142e-04 - val_loss: 0.0104\n",
            "Epoch 430/500\n",
            "19/19 [==============================] - 1s 33ms/step - loss: 4.9981e-04 - val_loss: 0.0050\n",
            "Epoch 431/500\n",
            "19/19 [==============================] - 1s 33ms/step - loss: 5.4864e-04 - val_loss: 0.0142\n",
            "Epoch 432/500\n",
            "19/19 [==============================] - 1s 32ms/step - loss: 5.2315e-04 - val_loss: 0.0123\n",
            "Epoch 433/500\n",
            "19/19 [==============================] - 1s 34ms/step - loss: 4.8536e-04 - val_loss: 0.0122\n",
            "Epoch 434/500\n",
            "19/19 [==============================] - 1s 33ms/step - loss: 4.7414e-04 - val_loss: 0.0088\n",
            "Epoch 435/500\n",
            "19/19 [==============================] - 1s 34ms/step - loss: 4.6928e-04 - val_loss: 0.0163\n",
            "Epoch 436/500\n",
            "19/19 [==============================] - 1s 33ms/step - loss: 4.7763e-04 - val_loss: 0.0060\n",
            "Epoch 437/500\n",
            "19/19 [==============================] - 1s 35ms/step - loss: 5.0010e-04 - val_loss: 0.0109\n",
            "Epoch 438/500\n",
            "19/19 [==============================] - 1s 34ms/step - loss: 4.2708e-04 - val_loss: 0.0070\n",
            "Epoch 439/500\n",
            "19/19 [==============================] - 1s 35ms/step - loss: 4.7815e-04 - val_loss: 0.0123\n",
            "Epoch 440/500\n",
            "19/19 [==============================] - 1s 34ms/step - loss: 4.7949e-04 - val_loss: 0.0093\n",
            "Epoch 441/500\n",
            "19/19 [==============================] - 1s 33ms/step - loss: 4.6023e-04 - val_loss: 0.0063\n",
            "Epoch 442/500\n",
            "19/19 [==============================] - 1s 35ms/step - loss: 4.3302e-04 - val_loss: 0.0120\n",
            "Epoch 443/500\n",
            "19/19 [==============================] - 1s 34ms/step - loss: 5.5560e-04 - val_loss: 0.0132\n",
            "Epoch 444/500\n",
            "19/19 [==============================] - 1s 33ms/step - loss: 4.7628e-04 - val_loss: 0.0018\n",
            "Epoch 445/500\n",
            "19/19 [==============================] - 1s 34ms/step - loss: 0.0010 - val_loss: 0.0200\n",
            "Epoch 446/500\n",
            "19/19 [==============================] - 1s 33ms/step - loss: 5.1423e-04 - val_loss: 0.0158\n",
            "Epoch 447/500\n",
            "19/19 [==============================] - 1s 33ms/step - loss: 7.0176e-04 - val_loss: 0.0193\n",
            "Epoch 448/500\n",
            "19/19 [==============================] - 1s 34ms/step - loss: 4.9563e-04 - val_loss: 0.0101\n",
            "Epoch 449/500\n",
            "19/19 [==============================] - 1s 33ms/step - loss: 4.5662e-04 - val_loss: 0.0096\n",
            "Epoch 450/500\n",
            "19/19 [==============================] - 1s 33ms/step - loss: 4.8295e-04 - val_loss: 0.0129\n",
            "Epoch 451/500\n",
            "19/19 [==============================] - 1s 34ms/step - loss: 4.1342e-04 - val_loss: 0.0099\n",
            "Epoch 452/500\n",
            "19/19 [==============================] - 1s 33ms/step - loss: 4.2469e-04 - val_loss: 0.0129\n",
            "Epoch 453/500\n",
            "19/19 [==============================] - 1s 34ms/step - loss: 4.5969e-04 - val_loss: 0.0170\n",
            "Epoch 454/500\n",
            "19/19 [==============================] - 1s 33ms/step - loss: 5.5374e-04 - val_loss: 0.0069\n",
            "Epoch 455/500\n",
            "19/19 [==============================] - 1s 34ms/step - loss: 4.5868e-04 - val_loss: 0.0160\n",
            "Epoch 456/500\n",
            "19/19 [==============================] - 1s 33ms/step - loss: 4.5757e-04 - val_loss: 0.0080\n",
            "Epoch 457/500\n",
            "19/19 [==============================] - 1s 33ms/step - loss: 4.7507e-04 - val_loss: 0.0108\n",
            "Epoch 458/500\n",
            "19/19 [==============================] - 1s 34ms/step - loss: 4.6202e-04 - val_loss: 0.0151\n",
            "Epoch 459/500\n",
            "19/19 [==============================] - 1s 33ms/step - loss: 4.7102e-04 - val_loss: 0.0086\n",
            "Epoch 460/500\n",
            "19/19 [==============================] - 1s 34ms/step - loss: 4.3582e-04 - val_loss: 0.0153\n",
            "Epoch 461/500\n",
            "19/19 [==============================] - 1s 33ms/step - loss: 5.3904e-04 - val_loss: 0.0050\n",
            "Epoch 462/500\n",
            "19/19 [==============================] - 1s 33ms/step - loss: 4.2680e-04 - val_loss: 0.0051\n",
            "Epoch 463/500\n",
            "19/19 [==============================] - 1s 35ms/step - loss: 4.4624e-04 - val_loss: 0.0069\n",
            "Epoch 464/500\n",
            "19/19 [==============================] - 1s 32ms/step - loss: 4.7696e-04 - val_loss: 0.0099\n",
            "Epoch 465/500\n",
            "19/19 [==============================] - 1s 34ms/step - loss: 4.8364e-04 - val_loss: 0.0091\n",
            "Epoch 466/500\n",
            "19/19 [==============================] - 1s 34ms/step - loss: 3.9289e-04 - val_loss: 0.0076\n",
            "Epoch 467/500\n",
            "19/19 [==============================] - 1s 34ms/step - loss: 5.6297e-04 - val_loss: 0.0085\n",
            "Epoch 468/500\n",
            "19/19 [==============================] - 1s 33ms/step - loss: 5.3583e-04 - val_loss: 0.0124\n",
            "Epoch 469/500\n",
            "19/19 [==============================] - 1s 34ms/step - loss: 4.9349e-04 - val_loss: 0.0086\n",
            "Epoch 470/500\n",
            "19/19 [==============================] - 1s 34ms/step - loss: 4.3008e-04 - val_loss: 0.0059\n",
            "Epoch 471/500\n",
            "19/19 [==============================] - 1s 35ms/step - loss: 4.4174e-04 - val_loss: 0.0095\n",
            "Epoch 472/500\n",
            "19/19 [==============================] - 1s 33ms/step - loss: 4.1997e-04 - val_loss: 0.0080\n",
            "Epoch 473/500\n",
            "19/19 [==============================] - 1s 33ms/step - loss: 4.4189e-04 - val_loss: 0.0098\n",
            "Epoch 474/500\n",
            "19/19 [==============================] - 1s 35ms/step - loss: 4.5613e-04 - val_loss: 0.0068\n",
            "Epoch 475/500\n",
            "19/19 [==============================] - 1s 34ms/step - loss: 5.3671e-04 - val_loss: 0.0050\n",
            "Epoch 476/500\n",
            "19/19 [==============================] - 1s 34ms/step - loss: 4.7685e-04 - val_loss: 0.0093\n",
            "Epoch 477/500\n",
            "19/19 [==============================] - 1s 32ms/step - loss: 4.6925e-04 - val_loss: 0.0068\n",
            "Epoch 478/500\n",
            "19/19 [==============================] - 1s 34ms/step - loss: 5.0002e-04 - val_loss: 0.0060\n",
            "Epoch 479/500\n",
            "19/19 [==============================] - 1s 33ms/step - loss: 4.7703e-04 - val_loss: 0.0113\n",
            "Epoch 480/500\n",
            "19/19 [==============================] - 1s 34ms/step - loss: 5.2187e-04 - val_loss: 0.0089\n",
            "Epoch 481/500\n",
            "19/19 [==============================] - 1s 33ms/step - loss: 4.2798e-04 - val_loss: 0.0105\n",
            "Epoch 482/500\n",
            "19/19 [==============================] - 1s 34ms/step - loss: 4.1424e-04 - val_loss: 0.0098\n",
            "Epoch 483/500\n",
            "19/19 [==============================] - 1s 35ms/step - loss: 4.5203e-04 - val_loss: 0.0106\n",
            "Epoch 484/500\n",
            "19/19 [==============================] - 1s 33ms/step - loss: 4.4672e-04 - val_loss: 0.0104\n",
            "Epoch 485/500\n",
            "19/19 [==============================] - 1s 33ms/step - loss: 3.8811e-04 - val_loss: 0.0091\n",
            "Epoch 486/500\n",
            "19/19 [==============================] - 1s 34ms/step - loss: 4.8055e-04 - val_loss: 0.0095\n",
            "Epoch 487/500\n",
            "19/19 [==============================] - 1s 34ms/step - loss: 4.2174e-04 - val_loss: 0.0104\n",
            "Epoch 488/500\n",
            "19/19 [==============================] - 1s 34ms/step - loss: 4.4260e-04 - val_loss: 0.0103\n",
            "Epoch 489/500\n",
            "19/19 [==============================] - 1s 33ms/step - loss: 4.5429e-04 - val_loss: 0.0084\n",
            "Epoch 490/500\n",
            "19/19 [==============================] - 1s 33ms/step - loss: 5.1301e-04 - val_loss: 0.0094\n",
            "Epoch 491/500\n",
            "19/19 [==============================] - 1s 35ms/step - loss: 4.6054e-04 - val_loss: 0.0125\n",
            "Epoch 492/500\n",
            "19/19 [==============================] - 1s 33ms/step - loss: 5.0049e-04 - val_loss: 0.0069\n",
            "Epoch 493/500\n",
            "19/19 [==============================] - 1s 34ms/step - loss: 4.5700e-04 - val_loss: 0.0113\n",
            "Epoch 494/500\n",
            "19/19 [==============================] - 1s 33ms/step - loss: 4.0204e-04 - val_loss: 0.0120\n",
            "Epoch 495/500\n",
            "19/19 [==============================] - 1s 33ms/step - loss: 3.8509e-04 - val_loss: 0.0164\n",
            "Epoch 496/500\n",
            "19/19 [==============================] - 1s 33ms/step - loss: 5.5990e-04 - val_loss: 0.0076\n",
            "Epoch 497/500\n",
            "19/19 [==============================] - 1s 34ms/step - loss: 4.2665e-04 - val_loss: 0.0117\n",
            "Epoch 498/500\n",
            "19/19 [==============================] - 1s 34ms/step - loss: 4.5932e-04 - val_loss: 0.0105\n",
            "Epoch 499/500\n",
            "19/19 [==============================] - 1s 34ms/step - loss: 4.1768e-04 - val_loss: 0.0136\n",
            "Epoch 500/500\n",
            "19/19 [==============================] - 1s 33ms/step - loss: 4.9305e-04 - val_loss: 0.0078\n"
          ],
          "name": "stdout"
        },
        {
          "output_type": "execute_result",
          "data": {
            "text/plain": [
              "<tensorflow.python.keras.callbacks.History at 0x7f56b9e7d950>"
            ]
          },
          "metadata": {
            "tags": []
          },
          "execution_count": 28
        }
      ]
    },
    {
      "cell_type": "code",
      "metadata": {
        "id": "LesiiF61UmCm"
      },
      "source": [
        "train_predict=model.predict(xtrain)\n",
        "test_predict=model.predict(xtest)"
      ],
      "execution_count": 29,
      "outputs": []
    },
    {
      "cell_type": "code",
      "metadata": {
        "id": "tq0KxQJGUnG0"
      },
      "source": [
        "train_predict=scaler.inverse_transform(train_predict)\n",
        "test_predict=scaler.inverse_transform(test_predict)"
      ],
      "execution_count": 30,
      "outputs": []
    },
    {
      "cell_type": "code",
      "metadata": {
        "id": "orp-qZ2tYd3i"
      },
      "source": [
        "import numpy\n",
        "testPredictPlot = numpy.empty_like(df1)\n",
        "testPredictPlot[:, :] = numpy.nan"
      ],
      "execution_count": 46,
      "outputs": []
    },
    {
      "cell_type": "code",
      "metadata": {
        "colab": {
          "base_uri": "https://localhost:8080/"
        },
        "id": "vcLTblYSUvTv",
        "outputId": "21090e08-f6e0-4f9c-e63a-ec8d5e7e7e14"
      },
      "source": [
        "import math\n",
        "from sklearn.metrics import mean_squared_error\n",
        "math.sqrt(mean_squared_error(ytrain,train_predict))"
      ],
      "execution_count": 47,
      "outputs": [
        {
          "output_type": "execute_result",
          "data": {
            "text/plain": [
              "2136.7971104288076"
            ]
          },
          "metadata": {
            "tags": []
          },
          "execution_count": 47
        }
      ]
    },
    {
      "cell_type": "code",
      "metadata": {
        "colab": {
          "base_uri": "https://localhost:8080/"
        },
        "id": "7374uTG9UyH9",
        "outputId": "2dc05677-3332-4855-a823-4976afd8b135"
      },
      "source": [
        "math.sqrt(mean_squared_error(ytest,test_predict))"
      ],
      "execution_count": 48,
      "outputs": [
        {
          "output_type": "execute_result",
          "data": {
            "text/plain": [
              "2994.273252208594"
            ]
          },
          "metadata": {
            "tags": []
          },
          "execution_count": 48
        }
      ]
    },
    {
      "cell_type": "code",
      "metadata": {
        "id": "ntWdgp_IZOSp"
      },
      "source": [
        "df1 = df_sc\n",
        "import numpy\n",
        "import matplotlib.pyplot as plt\n"
      ],
      "execution_count": 49,
      "outputs": []
    },
    {
      "cell_type": "code",
      "metadata": {
        "colab": {
          "base_uri": "https://localhost:8080/",
          "height": 265
        },
        "id": "Q_eiSj-rVAv2",
        "outputId": "63437b12-418d-4077-9e47-9c9a1741aeb7"
      },
      "source": [
        "\n",
        "look_back=back_days\n",
        "trainPredictPlot = numpy.empty_like(df1)\n",
        "trainPredictPlot[:, :] = np.nan\n",
        "trainPredictPlot[look_back:len(train_predict)+look_back, :] = train_predict\n",
        "# shift test predictions for plotting\n",
        "testPredictPlot = numpy.empty_like(df1)\n",
        "testPredictPlot[:, :] = numpy.nan\n",
        "#testPredictPlot[len(train_predict)+(look_back*2)+1:len(df1)-1, :] = test_predict\n",
        "testPredictPlot[len(train_predict)+(look_back*2):len(df1), :] = test_predict\n",
        "# plot baseline and predictions\n",
        "plt.plot(scaler.inverse_transform(df1))\n",
        "plt.plot(trainPredictPlot)\n",
        "plt.plot(testPredictPlot)\n",
        "plt.show()"
      ],
      "execution_count": 50,
      "outputs": [
        {
          "output_type": "display_data",
          "data": {
            "image/png": "[encoded data removed]",
            "text/plain": [
              "<Figure size 432x288 with 1 Axes>"
            ]
          },
          "metadata": {
            "tags": [],
            "needs_background": "light"
          }
        }
      ]
    },
    {
      "cell_type": "code",
      "metadata": {
        "colab": {
          "base_uri": "https://localhost:8080/"
        },
        "id": "weYi1LrFZTwQ",
        "outputId": "2ea277d2-466f-4981-ad11-ec5cbb7d4c60"
      },
      "source": [
        "len(test_data)"
      ],
      "execution_count": 51,
      "outputs": [
        {
          "output_type": "execute_result",
          "data": {
            "text/plain": [
              "108"
            ]
          },
          "metadata": {
            "tags": []
          },
          "execution_count": 51
        }
      ]
    },
    {
      "cell_type": "code",
      "metadata": {
        "colab": {
          "base_uri": "https://localhost:8080/"
        },
        "id": "sZk66024Zc4W",
        "outputId": "48c7176c-b68f-404b-bf62-616b1efcfbc1"
      },
      "source": [
        "x_input=test_data[len(test_data)-back_days:].reshape(1,-1)\n",
        "x_input.shape"
      ],
      "execution_count": 52,
      "outputs": [
        {
          "output_type": "execute_result",
          "data": {
            "text/plain": [
              "(1, 30)"
            ]
          },
          "metadata": {
            "tags": []
          },
          "execution_count": 52
        }
      ]
    },
    {
      "cell_type": "code",
      "metadata": {
        "id": "_tx8Z6yyZlgz"
      },
      "source": [
        "temp_input=list(x_input)\n",
        "temp_input=temp_input[0].tolist()"
      ],
      "execution_count": 53,
      "outputs": []
    },
    {
      "cell_type": "code",
      "metadata": {
        "colab": {
          "base_uri": "https://localhost:8080/"
        },
        "id": "p1a14auMZwFn",
        "outputId": "0209d578-451c-4f24-883c-8f2cf8bae31e"
      },
      "source": [
        "# demonstrate prediction for next 30 days\n",
        "from numpy import array\n",
        "\n",
        "lst_output=[]\n",
        "n_steps=back_days\n",
        "i=0\n",
        "while(i<30):\n",
        "    \n",
        "    if(len(temp_input)>back_days):\n",
        "        #print(temp_input)\n",
        "        x_input=np.array(temp_input[1:])\n",
        "        #print(\"{} day input {}\".format(i,x_input))\n",
        "        x_input=x_input.reshape(1,-1)\n",
        "        x_input = x_input.reshape((1, n_steps, 1))\n",
        "        #print(x_input)\n",
        "        yhat = model.predict(x_input, verbose=0)\n",
        "        #print(\"{} day output {}\".format(i,yhat))\n",
        "        temp_input.extend(yhat[0].tolist())\n",
        "        temp_input=temp_input[1:]\n",
        "        #print(temp_input)\n",
        "        lst_output.extend(yhat.tolist())\n",
        "        i=i+1\n",
        "    else:\n",
        "        x_input = x_input.reshape((1, n_steps,1))\n",
        "        yhat = model.predict(x_input, verbose=0)\n",
        "        #print(yhat[0])\n",
        "        temp_input.extend(yhat[0].tolist())\n",
        "        #print(len(temp_input))\n",
        "        lst_output.extend(yhat.tolist())\n",
        "        i=i+1\n",
        "    \n",
        "\n",
        "print(lst_output)"
      ],
      "execution_count": 54,
      "outputs": [
        {
          "output_type": "stream",
          "text": [
            "[[0.7772315740585327], [0.7461361885070801], [0.7087583541870117], [0.6665223836898804], [0.6263258457183838], [0.5952468514442444], [0.5745555758476257], [0.5614719986915588], [0.5547851324081421], [0.5538558959960938], [0.5570158362388611], [0.5630053877830505], [0.571785032749176], [0.5834957361221313], [0.5977942943572998], [0.6138016581535339], [0.6305184960365295], [0.6468642354011536], [0.6618441939353943], [0.6747470498085022], [0.6842806935310364], [0.6904577612876892], [0.6934530138969421], [0.6936795115470886], [0.6919506192207336], [0.6891558766365051], [0.6862007975578308], [0.6833093762397766], [0.6806606650352478], [0.6778886318206787]]\n"
          ],
          "name": "stdout"
        }
      ]
    },
    {
      "cell_type": "code",
      "metadata": {
        "id": "WI0eYmdyaOHt"
      },
      "source": [
        "day_new=np.arange(1,back_days+1)\n",
        "day_pred=np.arange(back_days+1,(back_days+31))"
      ],
      "execution_count": 55,
      "outputs": []
    },
    {
      "cell_type": "code",
      "metadata": {
        "colab": {
          "base_uri": "https://localhost:8080/"
        },
        "id": "-z6OsfduaXBE",
        "outputId": "41f2f0cb-d490-4311-e111-a10880115dfa"
      },
      "source": [
        "len(day_pred)"
      ],
      "execution_count": 56,
      "outputs": [
        {
          "output_type": "execute_result",
          "data": {
            "text/plain": [
              "30"
            ]
          },
          "metadata": {
            "tags": []
          },
          "execution_count": 56
        }
      ]
    },
    {
      "cell_type": "code",
      "metadata": {
        "colab": {
          "base_uri": "https://localhost:8080/",
          "height": 282
        },
        "id": "dQ5ioH_waZEL",
        "outputId": "b1715260-2d0a-42f6-de67-026ec99353fd"
      },
      "source": [
        "\n",
        "plt.plot(day_new,scaler.inverse_transform(df1[len(df1)-back_days:]))\n",
        "plt.plot(day_pred,scaler.inverse_transform(lst_output))"
      ],
      "execution_count": 57,
      "outputs": [
        {
          "output_type": "execute_result",
          "data": {
            "text/plain": [
              "[<matplotlib.lines.Line2D at 0x7f56b4f079d0>]"
            ]
          },
          "metadata": {
            "tags": []
          },
          "execution_count": 57
        },
        {
          "output_type": "display_data",
          "data": {
            "image/png": "[encoded data removed]",
            "text/plain": [
              "<Figure size 432x288 with 1 Axes>"
            ]
          },
          "metadata": {
            "tags": [],
            "needs_background": "light"
          }
        }
      ]
    },
    {
      "cell_type": "code",
      "metadata": {
        "colab": {
          "base_uri": "https://localhost:8080/",
          "height": 282
        },
        "id": "z9a5l1IZaf6E",
        "outputId": "8d87ecd6-029d-4962-c14d-23c657339cf8"
      },
      "source": [
        "df3=df1.tolist()\n",
        "df3.extend(lst_output)\n",
        "plt.plot(df3[500:])"
      ],
      "execution_count": 58,
      "outputs": [
        {
          "output_type": "execute_result",
          "data": {
            "text/plain": [
              "[<matplotlib.lines.Line2D at 0x7f56b5054550>]"
            ]
          },
          "metadata": {
            "tags": []
          },
          "execution_count": 58
        },
        {
          "output_type": "display_data",
          "data": {
            "image/png": "[encoded data removed]",
            "text/plain": [
              "<Figure size 432x288 with 1 Axes>"
            ]
          },
          "metadata": {
            "tags": [],
            "needs_background": "light"
          }
        }
      ]
    },
    {
      "cell_type": "code",
      "metadata": {
        "colab": {
          "base_uri": "https://localhost:8080/",
          "height": 282
        },
        "id": "MJKYI8pGalHZ",
        "outputId": "167b4615-a1fa-4bcf-f4ec-7cfb267352ad"
      },
      "source": [
        "df3=scaler.inverse_transform(df3).tolist()\n",
        "plt.plot(df3)"
      ],
      "execution_count": 59,
      "outputs": [
        {
          "output_type": "execute_result",
          "data": {
            "text/plain": [
              "[<matplotlib.lines.Line2D at 0x7f56b4f42ad0>]"
            ]
          },
          "metadata": {
            "tags": []
          },
          "execution_count": 59
        },
        {
          "output_type": "display_data",
          "data": {
            "image/png": "[encoded data removed]",
            "text/plain": [
              "<Figure size 432x288 with 1 Axes>"
            ]
          },
          "metadata": {
            "tags": [],
            "needs_background": "light"
          }
        }
      ]
    },
    {
      "cell_type": "code",
      "metadata": {
        "id": "ZIYeMwV2asne"
      },
      "source": [
        ""
      ],
      "execution_count": 59,
      "outputs": []
    },
    {
      "cell_type": "code",
      "metadata": {
        "id": "CPMVkwJSapJE"
      },
      "source": [
        "\n"
      ],
      "execution_count": 59,
      "outputs": []
    }
  ]
}